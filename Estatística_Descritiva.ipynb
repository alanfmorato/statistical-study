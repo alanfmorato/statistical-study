{
  "nbformat": 4,
  "nbformat_minor": 0,
  "metadata": {
    "colab": {
      "provenance": [],
      "collapsed_sections": [
        "LOJa8YpMJfxm",
        "PO8Nk4X4KBOT",
        "wpGKEMj3KYzM",
        "ESozr9c5OKFI",
        "fW3il6H0UMeG"
      ],
      "toc_visible": true,
      "mount_file_id": "1kquSRAVcFyifRp7bABpMzioKdMNSKbY7",
      "authorship_tag": "ABX9TyPP6lgzpB7ac+zFgBKjpco9",
      "include_colab_link": true
    },
    "kernelspec": {
      "name": "python3",
      "display_name": "Python 3"
    },
    "language_info": {
      "name": "python"
    }
  },
  "cells": [
    {
      "cell_type": "markdown",
      "metadata": {
        "id": "view-in-github",
        "colab_type": "text"
      },
      "source": [
        "<a href=\"https://colab.research.google.com/github/alanfmorato/statistical-study/blob/main/Estat%C3%ADstica_Descritiva.ipynb\" target=\"_parent\"><img src=\"https://colab.research.google.com/assets/colab-badge.svg\" alt=\"Open In Colab\"/></a>"
      ]
    },
    {
      "cell_type": "code",
      "execution_count": 684,
      "metadata": {
        "id": "wfs3QEbssOo6"
      },
      "outputs": [],
      "source": [
        "import pandas as pd\n",
        "import numpy as np\n",
        "import seaborn as sns\n",
        "import matplotlib.pyplot as plt\n",
        "import plotly.express as px"
      ]
    },
    {
      "cell_type": "code",
      "source": [
        "sns.set_palette(\"Accent\")\n",
        "sns.set_style(\"darkgrid\")"
      ],
      "metadata": {
        "id": "kf39i4DoYNhi"
      },
      "execution_count": 685,
      "outputs": []
    },
    {
      "cell_type": "code",
      "source": [
        "pd.set_option('display.max_columns', None)"
      ],
      "metadata": {
        "id": "1ggaDudlCjBA"
      },
      "execution_count": 686,
      "outputs": []
    },
    {
      "cell_type": "code",
      "source": [
        "df = pd.read_excel(\"/content/análise.xlsx\")"
      ],
      "metadata": {
        "id": "PHkR1LY6Bxb3"
      },
      "execution_count": 687,
      "outputs": []
    },
    {
      "cell_type": "code",
      "source": [
        "df.columns"
      ],
      "metadata": {
        "colab": {
          "base_uri": "https://localhost:8080/"
        },
        "id": "oWjk81V6CTn4",
        "outputId": "350362d8-5b4b-45c6-ed5d-10c02d91291e"
      },
      "execution_count": 688,
      "outputs": [
        {
          "output_type": "execute_result",
          "data": {
            "text/plain": [
              "Index(['Amostra', 'Máquina', 'Operador', 'Largura'], dtype='object')"
            ]
          },
          "metadata": {},
          "execution_count": 688
        }
      ]
    },
    {
      "cell_type": "code",
      "source": [
        "df.head()"
      ],
      "metadata": {
        "colab": {
          "base_uri": "https://localhost:8080/",
          "height": 206
        },
        "id": "iRiuAyTJCQ85",
        "outputId": "35fa5bdc-9fd5-45b0-fe28-93343a17501e"
      },
      "execution_count": 689,
      "outputs": [
        {
          "output_type": "execute_result",
          "data": {
            "text/plain": [
              "   Amostra Máquina Operador  Largura\n",
              "0        1  Sulzer    Julio     83.7\n",
              "1        1  Sulzer    Julio     83.4\n",
              "2        1  Sulzer    Julio     84.2\n",
              "3        1  Sulzer    Julio     83.9\n",
              "4        1  Sulzer    Julio     82.7"
            ],
            "text/html": [
              "\n",
              "  <div id=\"df-c2d97ab3-75df-4e8f-9bb0-de798974d008\">\n",
              "    <div class=\"colab-df-container\">\n",
              "      <div>\n",
              "<style scoped>\n",
              "    .dataframe tbody tr th:only-of-type {\n",
              "        vertical-align: middle;\n",
              "    }\n",
              "\n",
              "    .dataframe tbody tr th {\n",
              "        vertical-align: top;\n",
              "    }\n",
              "\n",
              "    .dataframe thead th {\n",
              "        text-align: right;\n",
              "    }\n",
              "</style>\n",
              "<table border=\"1\" class=\"dataframe\">\n",
              "  <thead>\n",
              "    <tr style=\"text-align: right;\">\n",
              "      <th></th>\n",
              "      <th>Amostra</th>\n",
              "      <th>Máquina</th>\n",
              "      <th>Operador</th>\n",
              "      <th>Largura</th>\n",
              "    </tr>\n",
              "  </thead>\n",
              "  <tbody>\n",
              "    <tr>\n",
              "      <th>0</th>\n",
              "      <td>1</td>\n",
              "      <td>Sulzer</td>\n",
              "      <td>Julio</td>\n",
              "      <td>83.7</td>\n",
              "    </tr>\n",
              "    <tr>\n",
              "      <th>1</th>\n",
              "      <td>1</td>\n",
              "      <td>Sulzer</td>\n",
              "      <td>Julio</td>\n",
              "      <td>83.4</td>\n",
              "    </tr>\n",
              "    <tr>\n",
              "      <th>2</th>\n",
              "      <td>1</td>\n",
              "      <td>Sulzer</td>\n",
              "      <td>Julio</td>\n",
              "      <td>84.2</td>\n",
              "    </tr>\n",
              "    <tr>\n",
              "      <th>3</th>\n",
              "      <td>1</td>\n",
              "      <td>Sulzer</td>\n",
              "      <td>Julio</td>\n",
              "      <td>83.9</td>\n",
              "    </tr>\n",
              "    <tr>\n",
              "      <th>4</th>\n",
              "      <td>1</td>\n",
              "      <td>Sulzer</td>\n",
              "      <td>Julio</td>\n",
              "      <td>82.7</td>\n",
              "    </tr>\n",
              "  </tbody>\n",
              "</table>\n",
              "</div>\n",
              "      <button class=\"colab-df-convert\" onclick=\"convertToInteractive('df-c2d97ab3-75df-4e8f-9bb0-de798974d008')\"\n",
              "              title=\"Convert this dataframe to an interactive table.\"\n",
              "              style=\"display:none;\">\n",
              "        \n",
              "  <svg xmlns=\"http://www.w3.org/2000/svg\" height=\"24px\"viewBox=\"0 0 24 24\"\n",
              "       width=\"24px\">\n",
              "    <path d=\"M0 0h24v24H0V0z\" fill=\"none\"/>\n",
              "    <path d=\"M18.56 5.44l.94 2.06.94-2.06 2.06-.94-2.06-.94-.94-2.06-.94 2.06-2.06.94zm-11 1L8.5 8.5l.94-2.06 2.06-.94-2.06-.94L8.5 2.5l-.94 2.06-2.06.94zm10 10l.94 2.06.94-2.06 2.06-.94-2.06-.94-.94-2.06-.94 2.06-2.06.94z\"/><path d=\"M17.41 7.96l-1.37-1.37c-.4-.4-.92-.59-1.43-.59-.52 0-1.04.2-1.43.59L10.3 9.45l-7.72 7.72c-.78.78-.78 2.05 0 2.83L4 21.41c.39.39.9.59 1.41.59.51 0 1.02-.2 1.41-.59l7.78-7.78 2.81-2.81c.8-.78.8-2.07 0-2.86zM5.41 20L4 18.59l7.72-7.72 1.47 1.35L5.41 20z\"/>\n",
              "  </svg>\n",
              "      </button>\n",
              "      \n",
              "  <style>\n",
              "    .colab-df-container {\n",
              "      display:flex;\n",
              "      flex-wrap:wrap;\n",
              "      gap: 12px;\n",
              "    }\n",
              "\n",
              "    .colab-df-convert {\n",
              "      background-color: #E8F0FE;\n",
              "      border: none;\n",
              "      border-radius: 50%;\n",
              "      cursor: pointer;\n",
              "      display: none;\n",
              "      fill: #1967D2;\n",
              "      height: 32px;\n",
              "      padding: 0 0 0 0;\n",
              "      width: 32px;\n",
              "    }\n",
              "\n",
              "    .colab-df-convert:hover {\n",
              "      background-color: #E2EBFA;\n",
              "      box-shadow: 0px 1px 2px rgba(60, 64, 67, 0.3), 0px 1px 3px 1px rgba(60, 64, 67, 0.15);\n",
              "      fill: #174EA6;\n",
              "    }\n",
              "\n",
              "    [theme=dark] .colab-df-convert {\n",
              "      background-color: #3B4455;\n",
              "      fill: #D2E3FC;\n",
              "    }\n",
              "\n",
              "    [theme=dark] .colab-df-convert:hover {\n",
              "      background-color: #434B5C;\n",
              "      box-shadow: 0px 1px 3px 1px rgba(0, 0, 0, 0.15);\n",
              "      filter: drop-shadow(0px 1px 2px rgba(0, 0, 0, 0.3));\n",
              "      fill: #FFFFFF;\n",
              "    }\n",
              "  </style>\n",
              "\n",
              "      <script>\n",
              "        const buttonEl =\n",
              "          document.querySelector('#df-c2d97ab3-75df-4e8f-9bb0-de798974d008 button.colab-df-convert');\n",
              "        buttonEl.style.display =\n",
              "          google.colab.kernel.accessAllowed ? 'block' : 'none';\n",
              "\n",
              "        async function convertToInteractive(key) {\n",
              "          const element = document.querySelector('#df-c2d97ab3-75df-4e8f-9bb0-de798974d008');\n",
              "          const dataTable =\n",
              "            await google.colab.kernel.invokeFunction('convertToInteractive',\n",
              "                                                     [key], {});\n",
              "          if (!dataTable) return;\n",
              "\n",
              "          const docLinkHtml = 'Like what you see? Visit the ' +\n",
              "            '<a target=\"_blank\" href=https://colab.research.google.com/notebooks/data_table.ipynb>data table notebook</a>'\n",
              "            + ' to learn more about interactive tables.';\n",
              "          element.innerHTML = '';\n",
              "          dataTable['output_type'] = 'display_data';\n",
              "          await google.colab.output.renderOutput(dataTable, element);\n",
              "          const docLink = document.createElement('div');\n",
              "          docLink.innerHTML = docLinkHtml;\n",
              "          element.appendChild(docLink);\n",
              "        }\n",
              "      </script>\n",
              "    </div>\n",
              "  </div>\n",
              "  "
            ]
          },
          "metadata": {},
          "execution_count": 689
        }
      ]
    },
    {
      "cell_type": "markdown",
      "source": [
        "###Variáveis Qualitativas"
      ],
      "metadata": {
        "id": "LOJa8YpMJfxm"
      }
    },
    {
      "cell_type": "code",
      "source": [
        "#Nominal\n",
        "sorted(df['Máquina'].unique())"
      ],
      "metadata": {
        "colab": {
          "base_uri": "https://localhost:8080/"
        },
        "id": "_zpDMcajJd_S",
        "outputId": "2ce96758-1e3c-4187-a50f-bf31b9ce1127"
      },
      "execution_count": 690,
      "outputs": [
        {
          "output_type": "execute_result",
          "data": {
            "text/plain": [
              "['Nova', 'Sulzer']"
            ]
          },
          "metadata": {},
          "execution_count": 690
        }
      ]
    },
    {
      "cell_type": "code",
      "source": [
        "#Nominal\n",
        "sorted(df['Operador'].unique())"
      ],
      "metadata": {
        "colab": {
          "base_uri": "https://localhost:8080/"
        },
        "id": "AXuI0vbeJzqI",
        "outputId": "4cbabc86-ecfe-4d70-b8fa-d027f36f8664"
      },
      "execution_count": 691,
      "outputs": [
        {
          "output_type": "execute_result",
          "data": {
            "text/plain": [
              "['Gerardo', 'Julio', 'Luis']"
            ]
          },
          "metadata": {},
          "execution_count": 691
        }
      ]
    },
    {
      "cell_type": "markdown",
      "source": [
        "###Variáveis Quantitativas"
      ],
      "metadata": {
        "id": "PO8Nk4X4KBOT"
      }
    },
    {
      "cell_type": "code",
      "source": [
        "#Contínua\n",
        "sorted(df['Amostra'].unique())"
      ],
      "metadata": {
        "colab": {
          "base_uri": "https://localhost:8080/"
        },
        "id": "KY3b245QKDRf",
        "outputId": "b94d5c18-e7a4-4015-fe04-a0df627fe26f"
      },
      "execution_count": 692,
      "outputs": [
        {
          "output_type": "execute_result",
          "data": {
            "text/plain": [
              "[1, 2, 3, 4, 5, 6, 7, 8, 9, 10, 11, 12, 13, 14, 15, 16, 17, 18]"
            ]
          },
          "metadata": {},
          "execution_count": 692
        }
      ]
    },
    {
      "cell_type": "code",
      "source": [
        "#Discreta\n",
        "sorted(df['Largura'].unique())"
      ],
      "metadata": {
        "id": "Lges68vLKPqs",
        "colab": {
          "base_uri": "https://localhost:8080/"
        },
        "outputId": "7c175f6f-1ed5-44e3-b269-9423a19eb3aa"
      },
      "execution_count": 693,
      "outputs": [
        {
          "output_type": "execute_result",
          "data": {
            "text/plain": [
              "[82.6,\n",
              " 82.7,\n",
              " 82.9,\n",
              " 83.4,\n",
              " 83.6,\n",
              " 83.7,\n",
              " 83.9,\n",
              " 84.1,\n",
              " 84.2,\n",
              " 84.3,\n",
              " 84.4,\n",
              " 84.5,\n",
              " 84.7,\n",
              " 84.9,\n",
              " 85.0,\n",
              " 85.1,\n",
              " 85.3,\n",
              " 85.4,\n",
              " 85.5,\n",
              " 85.6,\n",
              " 85.7,\n",
              " 85.8,\n",
              " 85.9,\n",
              " 86.0,\n",
              " 86.1,\n",
              " 86.2,\n",
              " 86.5,\n",
              " 86.6,\n",
              " 86.7,\n",
              " 86.8,\n",
              " 86.9,\n",
              " 87.0,\n",
              " 87.1,\n",
              " 87.3,\n",
              " 87.5,\n",
              " 87.6,\n",
              " 87.8,\n",
              " 87.9,\n",
              " 88.0,\n",
              " 88.1,\n",
              " 88.2,\n",
              " 88.3,\n",
              " 88.4,\n",
              " 88.5,\n",
              " 88.6,\n",
              " 88.7,\n",
              " 88.8,\n",
              " 89.2,\n",
              " 89.5]"
            ]
          },
          "metadata": {},
          "execution_count": 693
        }
      ]
    },
    {
      "cell_type": "markdown",
      "source": [
        "###Frequência"
      ],
      "metadata": {
        "id": "wpGKEMj3KYzM"
      }
    },
    {
      "cell_type": "code",
      "source": [
        "#Calculando a frequência de teste das máquinas\n",
        "freq_maq = df['Máquina'].value_counts()\n",
        "freq_maq"
      ],
      "metadata": {
        "colab": {
          "base_uri": "https://localhost:8080/"
        },
        "id": "rS-VyDYoKhnA",
        "outputId": "a9ec6859-f8da-418c-ad1c-66e47980cdf0"
      },
      "execution_count": 694,
      "outputs": [
        {
          "output_type": "execute_result",
          "data": {
            "text/plain": [
              "Sulzer    45\n",
              "Nova      45\n",
              "Name: Máquina, dtype: int64"
            ]
          },
          "metadata": {},
          "execution_count": 694
        }
      ]
    },
    {
      "cell_type": "code",
      "source": [
        "#Calculando o percentual de teste das máquinas\n",
        "perc_maq = df['Máquina'].value_counts(normalize = True)*100\n",
        "perc_maq"
      ],
      "metadata": {
        "colab": {
          "base_uri": "https://localhost:8080/"
        },
        "id": "vnioyIMLLEgU",
        "outputId": "a1f76b3b-c125-4a79-de13-4c3c43e5c46f"
      },
      "execution_count": 695,
      "outputs": [
        {
          "output_type": "execute_result",
          "data": {
            "text/plain": [
              "Sulzer    50.0\n",
              "Nova      50.0\n",
              "Name: Máquina, dtype: float64"
            ]
          },
          "metadata": {},
          "execution_count": 695
        }
      ]
    },
    {
      "cell_type": "code",
      "source": [
        "#Guardando informações em tabelas\n",
        "tabela_maquina = pd.DataFrame({'Frequencia': freq_maq, 'Porcentagem': perc_maq})\n",
        "tabela_maquina"
      ],
      "metadata": {
        "colab": {
          "base_uri": "https://localhost:8080/",
          "height": 0
        },
        "id": "bHtlLwmkLP-F",
        "outputId": "b063286a-b136-452a-c1ea-97ce2d3ebad8"
      },
      "execution_count": 696,
      "outputs": [
        {
          "output_type": "execute_result",
          "data": {
            "text/plain": [
              "        Frequencia  Porcentagem\n",
              "Sulzer          45         50.0\n",
              "Nova            45         50.0"
            ],
            "text/html": [
              "\n",
              "  <div id=\"df-c083f33f-e2ae-4cbc-a087-7bf1e70187ec\">\n",
              "    <div class=\"colab-df-container\">\n",
              "      <div>\n",
              "<style scoped>\n",
              "    .dataframe tbody tr th:only-of-type {\n",
              "        vertical-align: middle;\n",
              "    }\n",
              "\n",
              "    .dataframe tbody tr th {\n",
              "        vertical-align: top;\n",
              "    }\n",
              "\n",
              "    .dataframe thead th {\n",
              "        text-align: right;\n",
              "    }\n",
              "</style>\n",
              "<table border=\"1\" class=\"dataframe\">\n",
              "  <thead>\n",
              "    <tr style=\"text-align: right;\">\n",
              "      <th></th>\n",
              "      <th>Frequencia</th>\n",
              "      <th>Porcentagem</th>\n",
              "    </tr>\n",
              "  </thead>\n",
              "  <tbody>\n",
              "    <tr>\n",
              "      <th>Sulzer</th>\n",
              "      <td>45</td>\n",
              "      <td>50.0</td>\n",
              "    </tr>\n",
              "    <tr>\n",
              "      <th>Nova</th>\n",
              "      <td>45</td>\n",
              "      <td>50.0</td>\n",
              "    </tr>\n",
              "  </tbody>\n",
              "</table>\n",
              "</div>\n",
              "      <button class=\"colab-df-convert\" onclick=\"convertToInteractive('df-c083f33f-e2ae-4cbc-a087-7bf1e70187ec')\"\n",
              "              title=\"Convert this dataframe to an interactive table.\"\n",
              "              style=\"display:none;\">\n",
              "        \n",
              "  <svg xmlns=\"http://www.w3.org/2000/svg\" height=\"24px\"viewBox=\"0 0 24 24\"\n",
              "       width=\"24px\">\n",
              "    <path d=\"M0 0h24v24H0V0z\" fill=\"none\"/>\n",
              "    <path d=\"M18.56 5.44l.94 2.06.94-2.06 2.06-.94-2.06-.94-.94-2.06-.94 2.06-2.06.94zm-11 1L8.5 8.5l.94-2.06 2.06-.94-2.06-.94L8.5 2.5l-.94 2.06-2.06.94zm10 10l.94 2.06.94-2.06 2.06-.94-2.06-.94-.94-2.06-.94 2.06-2.06.94z\"/><path d=\"M17.41 7.96l-1.37-1.37c-.4-.4-.92-.59-1.43-.59-.52 0-1.04.2-1.43.59L10.3 9.45l-7.72 7.72c-.78.78-.78 2.05 0 2.83L4 21.41c.39.39.9.59 1.41.59.51 0 1.02-.2 1.41-.59l7.78-7.78 2.81-2.81c.8-.78.8-2.07 0-2.86zM5.41 20L4 18.59l7.72-7.72 1.47 1.35L5.41 20z\"/>\n",
              "  </svg>\n",
              "      </button>\n",
              "      \n",
              "  <style>\n",
              "    .colab-df-container {\n",
              "      display:flex;\n",
              "      flex-wrap:wrap;\n",
              "      gap: 12px;\n",
              "    }\n",
              "\n",
              "    .colab-df-convert {\n",
              "      background-color: #E8F0FE;\n",
              "      border: none;\n",
              "      border-radius: 50%;\n",
              "      cursor: pointer;\n",
              "      display: none;\n",
              "      fill: #1967D2;\n",
              "      height: 32px;\n",
              "      padding: 0 0 0 0;\n",
              "      width: 32px;\n",
              "    }\n",
              "\n",
              "    .colab-df-convert:hover {\n",
              "      background-color: #E2EBFA;\n",
              "      box-shadow: 0px 1px 2px rgba(60, 64, 67, 0.3), 0px 1px 3px 1px rgba(60, 64, 67, 0.15);\n",
              "      fill: #174EA6;\n",
              "    }\n",
              "\n",
              "    [theme=dark] .colab-df-convert {\n",
              "      background-color: #3B4455;\n",
              "      fill: #D2E3FC;\n",
              "    }\n",
              "\n",
              "    [theme=dark] .colab-df-convert:hover {\n",
              "      background-color: #434B5C;\n",
              "      box-shadow: 0px 1px 3px 1px rgba(0, 0, 0, 0.15);\n",
              "      filter: drop-shadow(0px 1px 2px rgba(0, 0, 0, 0.3));\n",
              "      fill: #FFFFFF;\n",
              "    }\n",
              "  </style>\n",
              "\n",
              "      <script>\n",
              "        const buttonEl =\n",
              "          document.querySelector('#df-c083f33f-e2ae-4cbc-a087-7bf1e70187ec button.colab-df-convert');\n",
              "        buttonEl.style.display =\n",
              "          google.colab.kernel.accessAllowed ? 'block' : 'none';\n",
              "\n",
              "        async function convertToInteractive(key) {\n",
              "          const element = document.querySelector('#df-c083f33f-e2ae-4cbc-a087-7bf1e70187ec');\n",
              "          const dataTable =\n",
              "            await google.colab.kernel.invokeFunction('convertToInteractive',\n",
              "                                                     [key], {});\n",
              "          if (!dataTable) return;\n",
              "\n",
              "          const docLinkHtml = 'Like what you see? Visit the ' +\n",
              "            '<a target=\"_blank\" href=https://colab.research.google.com/notebooks/data_table.ipynb>data table notebook</a>'\n",
              "            + ' to learn more about interactive tables.';\n",
              "          element.innerHTML = '';\n",
              "          dataTable['output_type'] = 'display_data';\n",
              "          await google.colab.output.renderOutput(dataTable, element);\n",
              "          const docLink = document.createElement('div');\n",
              "          docLink.innerHTML = docLinkHtml;\n",
              "          element.appendChild(docLink);\n",
              "        }\n",
              "      </script>\n",
              "    </div>\n",
              "  </div>\n",
              "  "
            ]
          },
          "metadata": {},
          "execution_count": 696
        }
      ]
    },
    {
      "cell_type": "code",
      "source": [
        "#Calculando a frequência de teste das operador\n",
        "freq_op = df['Operador'].value_counts()\n",
        "freq_op"
      ],
      "metadata": {
        "colab": {
          "base_uri": "https://localhost:8080/"
        },
        "id": "7aInroj9L5I9",
        "outputId": "d700243c-e56d-4a14-a658-2962827c1d5b"
      },
      "execution_count": 697,
      "outputs": [
        {
          "output_type": "execute_result",
          "data": {
            "text/plain": [
              "Julio      30\n",
              "Gerardo    30\n",
              "Luis       30\n",
              "Name: Operador, dtype: int64"
            ]
          },
          "metadata": {},
          "execution_count": 697
        }
      ]
    },
    {
      "cell_type": "code",
      "source": [
        "#Calculando o percentual de teste das operador\n",
        "perc_op = df['Operador'].value_counts(normalize = True)*100\n",
        "perc_op = perc_op.round(2)\n",
        "perc_op"
      ],
      "metadata": {
        "colab": {
          "base_uri": "https://localhost:8080/"
        },
        "id": "uRfYO6FZMO8G",
        "outputId": "f2f1d8e5-fbd6-473f-f6be-52fc623f7d85"
      },
      "execution_count": 698,
      "outputs": [
        {
          "output_type": "execute_result",
          "data": {
            "text/plain": [
              "Julio      33.33\n",
              "Gerardo    33.33\n",
              "Luis       33.33\n",
              "Name: Operador, dtype: float64"
            ]
          },
          "metadata": {},
          "execution_count": 698
        }
      ]
    },
    {
      "cell_type": "code",
      "source": [
        "#Guardando informações em tabelas\n",
        "tabela_operador = pd.DataFrame({'Frequencia': freq_op, 'Porcentagem': perc_op})\n",
        "tabela_operador"
      ],
      "metadata": {
        "colab": {
          "base_uri": "https://localhost:8080/",
          "height": 0
        },
        "id": "_g-10Ov8MTlS",
        "outputId": "5fb29f63-36d5-4510-807e-5733fbe4ece1"
      },
      "execution_count": 699,
      "outputs": [
        {
          "output_type": "execute_result",
          "data": {
            "text/plain": [
              "         Frequencia  Porcentagem\n",
              "Julio            30        33.33\n",
              "Gerardo          30        33.33\n",
              "Luis             30        33.33"
            ],
            "text/html": [
              "\n",
              "  <div id=\"df-b9c2b968-9426-4616-853c-60c0c84e465f\">\n",
              "    <div class=\"colab-df-container\">\n",
              "      <div>\n",
              "<style scoped>\n",
              "    .dataframe tbody tr th:only-of-type {\n",
              "        vertical-align: middle;\n",
              "    }\n",
              "\n",
              "    .dataframe tbody tr th {\n",
              "        vertical-align: top;\n",
              "    }\n",
              "\n",
              "    .dataframe thead th {\n",
              "        text-align: right;\n",
              "    }\n",
              "</style>\n",
              "<table border=\"1\" class=\"dataframe\">\n",
              "  <thead>\n",
              "    <tr style=\"text-align: right;\">\n",
              "      <th></th>\n",
              "      <th>Frequencia</th>\n",
              "      <th>Porcentagem</th>\n",
              "    </tr>\n",
              "  </thead>\n",
              "  <tbody>\n",
              "    <tr>\n",
              "      <th>Julio</th>\n",
              "      <td>30</td>\n",
              "      <td>33.33</td>\n",
              "    </tr>\n",
              "    <tr>\n",
              "      <th>Gerardo</th>\n",
              "      <td>30</td>\n",
              "      <td>33.33</td>\n",
              "    </tr>\n",
              "    <tr>\n",
              "      <th>Luis</th>\n",
              "      <td>30</td>\n",
              "      <td>33.33</td>\n",
              "    </tr>\n",
              "  </tbody>\n",
              "</table>\n",
              "</div>\n",
              "      <button class=\"colab-df-convert\" onclick=\"convertToInteractive('df-b9c2b968-9426-4616-853c-60c0c84e465f')\"\n",
              "              title=\"Convert this dataframe to an interactive table.\"\n",
              "              style=\"display:none;\">\n",
              "        \n",
              "  <svg xmlns=\"http://www.w3.org/2000/svg\" height=\"24px\"viewBox=\"0 0 24 24\"\n",
              "       width=\"24px\">\n",
              "    <path d=\"M0 0h24v24H0V0z\" fill=\"none\"/>\n",
              "    <path d=\"M18.56 5.44l.94 2.06.94-2.06 2.06-.94-2.06-.94-.94-2.06-.94 2.06-2.06.94zm-11 1L8.5 8.5l.94-2.06 2.06-.94-2.06-.94L8.5 2.5l-.94 2.06-2.06.94zm10 10l.94 2.06.94-2.06 2.06-.94-2.06-.94-.94-2.06-.94 2.06-2.06.94z\"/><path d=\"M17.41 7.96l-1.37-1.37c-.4-.4-.92-.59-1.43-.59-.52 0-1.04.2-1.43.59L10.3 9.45l-7.72 7.72c-.78.78-.78 2.05 0 2.83L4 21.41c.39.39.9.59 1.41.59.51 0 1.02-.2 1.41-.59l7.78-7.78 2.81-2.81c.8-.78.8-2.07 0-2.86zM5.41 20L4 18.59l7.72-7.72 1.47 1.35L5.41 20z\"/>\n",
              "  </svg>\n",
              "      </button>\n",
              "      \n",
              "  <style>\n",
              "    .colab-df-container {\n",
              "      display:flex;\n",
              "      flex-wrap:wrap;\n",
              "      gap: 12px;\n",
              "    }\n",
              "\n",
              "    .colab-df-convert {\n",
              "      background-color: #E8F0FE;\n",
              "      border: none;\n",
              "      border-radius: 50%;\n",
              "      cursor: pointer;\n",
              "      display: none;\n",
              "      fill: #1967D2;\n",
              "      height: 32px;\n",
              "      padding: 0 0 0 0;\n",
              "      width: 32px;\n",
              "    }\n",
              "\n",
              "    .colab-df-convert:hover {\n",
              "      background-color: #E2EBFA;\n",
              "      box-shadow: 0px 1px 2px rgba(60, 64, 67, 0.3), 0px 1px 3px 1px rgba(60, 64, 67, 0.15);\n",
              "      fill: #174EA6;\n",
              "    }\n",
              "\n",
              "    [theme=dark] .colab-df-convert {\n",
              "      background-color: #3B4455;\n",
              "      fill: #D2E3FC;\n",
              "    }\n",
              "\n",
              "    [theme=dark] .colab-df-convert:hover {\n",
              "      background-color: #434B5C;\n",
              "      box-shadow: 0px 1px 3px 1px rgba(0, 0, 0, 0.15);\n",
              "      filter: drop-shadow(0px 1px 2px rgba(0, 0, 0, 0.3));\n",
              "      fill: #FFFFFF;\n",
              "    }\n",
              "  </style>\n",
              "\n",
              "      <script>\n",
              "        const buttonEl =\n",
              "          document.querySelector('#df-b9c2b968-9426-4616-853c-60c0c84e465f button.colab-df-convert');\n",
              "        buttonEl.style.display =\n",
              "          google.colab.kernel.accessAllowed ? 'block' : 'none';\n",
              "\n",
              "        async function convertToInteractive(key) {\n",
              "          const element = document.querySelector('#df-b9c2b968-9426-4616-853c-60c0c84e465f');\n",
              "          const dataTable =\n",
              "            await google.colab.kernel.invokeFunction('convertToInteractive',\n",
              "                                                     [key], {});\n",
              "          if (!dataTable) return;\n",
              "\n",
              "          const docLinkHtml = 'Like what you see? Visit the ' +\n",
              "            '<a target=\"_blank\" href=https://colab.research.google.com/notebooks/data_table.ipynb>data table notebook</a>'\n",
              "            + ' to learn more about interactive tables.';\n",
              "          element.innerHTML = '';\n",
              "          dataTable['output_type'] = 'display_data';\n",
              "          await google.colab.output.renderOutput(dataTable, element);\n",
              "          const docLink = document.createElement('div');\n",
              "          docLink.innerHTML = docLinkHtml;\n",
              "          element.appendChild(docLink);\n",
              "        }\n",
              "      </script>\n",
              "    </div>\n",
              "  </div>\n",
              "  "
            ]
          },
          "metadata": {},
          "execution_count": 699
        }
      ]
    },
    {
      "cell_type": "code",
      "source": [
        "#Calculando a frequência de teste das Amostras\n",
        "freq_am = df['Amostra'].value_counts()\n",
        "freq_am"
      ],
      "metadata": {
        "colab": {
          "base_uri": "https://localhost:8080/"
        },
        "id": "f52231G6Mp1e",
        "outputId": "5072f491-75b1-40a8-cd73-88d757830373"
      },
      "execution_count": 700,
      "outputs": [
        {
          "output_type": "execute_result",
          "data": {
            "text/plain": [
              "1     5\n",
              "2     5\n",
              "17    5\n",
              "16    5\n",
              "15    5\n",
              "14    5\n",
              "13    5\n",
              "12    5\n",
              "11    5\n",
              "10    5\n",
              "9     5\n",
              "8     5\n",
              "7     5\n",
              "6     5\n",
              "5     5\n",
              "4     5\n",
              "3     5\n",
              "18    5\n",
              "Name: Amostra, dtype: int64"
            ]
          },
          "metadata": {},
          "execution_count": 700
        }
      ]
    },
    {
      "cell_type": "code",
      "source": [
        "#Calculando o percentual de teste das operador\n",
        "perc_am = df['Amostra'].value_counts(normalize = True)*100\n",
        "perc_am = perc_am.round(2)\n",
        "perc_am"
      ],
      "metadata": {
        "colab": {
          "base_uri": "https://localhost:8080/"
        },
        "id": "mSNF-FwvMtPc",
        "outputId": "37626f05-ab76-4080-ce18-2f9c7c65e24a"
      },
      "execution_count": 701,
      "outputs": [
        {
          "output_type": "execute_result",
          "data": {
            "text/plain": [
              "1     5.56\n",
              "2     5.56\n",
              "17    5.56\n",
              "16    5.56\n",
              "15    5.56\n",
              "14    5.56\n",
              "13    5.56\n",
              "12    5.56\n",
              "11    5.56\n",
              "10    5.56\n",
              "9     5.56\n",
              "8     5.56\n",
              "7     5.56\n",
              "6     5.56\n",
              "5     5.56\n",
              "4     5.56\n",
              "3     5.56\n",
              "18    5.56\n",
              "Name: Amostra, dtype: float64"
            ]
          },
          "metadata": {},
          "execution_count": 701
        }
      ]
    },
    {
      "cell_type": "code",
      "source": [
        "#Guardando informações em tabelas\n",
        "tabela_amostra = pd.DataFrame({'Frequencia': freq_am, 'Porcentagem': perc_am})\n",
        "tabela_amostra"
      ],
      "metadata": {
        "colab": {
          "base_uri": "https://localhost:8080/",
          "height": 0
        },
        "id": "spK6G11hMuey",
        "outputId": "388b63c1-c12c-4020-e33f-5ebb8f1bc934"
      },
      "execution_count": 702,
      "outputs": [
        {
          "output_type": "execute_result",
          "data": {
            "text/plain": [
              "    Frequencia  Porcentagem\n",
              "1            5         5.56\n",
              "2            5         5.56\n",
              "17           5         5.56\n",
              "16           5         5.56\n",
              "15           5         5.56\n",
              "14           5         5.56\n",
              "13           5         5.56\n",
              "12           5         5.56\n",
              "11           5         5.56\n",
              "10           5         5.56\n",
              "9            5         5.56\n",
              "8            5         5.56\n",
              "7            5         5.56\n",
              "6            5         5.56\n",
              "5            5         5.56\n",
              "4            5         5.56\n",
              "3            5         5.56\n",
              "18           5         5.56"
            ],
            "text/html": [
              "\n",
              "  <div id=\"df-ef45fa6b-be3e-4b6c-9e65-8f540f4636d9\">\n",
              "    <div class=\"colab-df-container\">\n",
              "      <div>\n",
              "<style scoped>\n",
              "    .dataframe tbody tr th:only-of-type {\n",
              "        vertical-align: middle;\n",
              "    }\n",
              "\n",
              "    .dataframe tbody tr th {\n",
              "        vertical-align: top;\n",
              "    }\n",
              "\n",
              "    .dataframe thead th {\n",
              "        text-align: right;\n",
              "    }\n",
              "</style>\n",
              "<table border=\"1\" class=\"dataframe\">\n",
              "  <thead>\n",
              "    <tr style=\"text-align: right;\">\n",
              "      <th></th>\n",
              "      <th>Frequencia</th>\n",
              "      <th>Porcentagem</th>\n",
              "    </tr>\n",
              "  </thead>\n",
              "  <tbody>\n",
              "    <tr>\n",
              "      <th>1</th>\n",
              "      <td>5</td>\n",
              "      <td>5.56</td>\n",
              "    </tr>\n",
              "    <tr>\n",
              "      <th>2</th>\n",
              "      <td>5</td>\n",
              "      <td>5.56</td>\n",
              "    </tr>\n",
              "    <tr>\n",
              "      <th>17</th>\n",
              "      <td>5</td>\n",
              "      <td>5.56</td>\n",
              "    </tr>\n",
              "    <tr>\n",
              "      <th>16</th>\n",
              "      <td>5</td>\n",
              "      <td>5.56</td>\n",
              "    </tr>\n",
              "    <tr>\n",
              "      <th>15</th>\n",
              "      <td>5</td>\n",
              "      <td>5.56</td>\n",
              "    </tr>\n",
              "    <tr>\n",
              "      <th>14</th>\n",
              "      <td>5</td>\n",
              "      <td>5.56</td>\n",
              "    </tr>\n",
              "    <tr>\n",
              "      <th>13</th>\n",
              "      <td>5</td>\n",
              "      <td>5.56</td>\n",
              "    </tr>\n",
              "    <tr>\n",
              "      <th>12</th>\n",
              "      <td>5</td>\n",
              "      <td>5.56</td>\n",
              "    </tr>\n",
              "    <tr>\n",
              "      <th>11</th>\n",
              "      <td>5</td>\n",
              "      <td>5.56</td>\n",
              "    </tr>\n",
              "    <tr>\n",
              "      <th>10</th>\n",
              "      <td>5</td>\n",
              "      <td>5.56</td>\n",
              "    </tr>\n",
              "    <tr>\n",
              "      <th>9</th>\n",
              "      <td>5</td>\n",
              "      <td>5.56</td>\n",
              "    </tr>\n",
              "    <tr>\n",
              "      <th>8</th>\n",
              "      <td>5</td>\n",
              "      <td>5.56</td>\n",
              "    </tr>\n",
              "    <tr>\n",
              "      <th>7</th>\n",
              "      <td>5</td>\n",
              "      <td>5.56</td>\n",
              "    </tr>\n",
              "    <tr>\n",
              "      <th>6</th>\n",
              "      <td>5</td>\n",
              "      <td>5.56</td>\n",
              "    </tr>\n",
              "    <tr>\n",
              "      <th>5</th>\n",
              "      <td>5</td>\n",
              "      <td>5.56</td>\n",
              "    </tr>\n",
              "    <tr>\n",
              "      <th>4</th>\n",
              "      <td>5</td>\n",
              "      <td>5.56</td>\n",
              "    </tr>\n",
              "    <tr>\n",
              "      <th>3</th>\n",
              "      <td>5</td>\n",
              "      <td>5.56</td>\n",
              "    </tr>\n",
              "    <tr>\n",
              "      <th>18</th>\n",
              "      <td>5</td>\n",
              "      <td>5.56</td>\n",
              "    </tr>\n",
              "  </tbody>\n",
              "</table>\n",
              "</div>\n",
              "      <button class=\"colab-df-convert\" onclick=\"convertToInteractive('df-ef45fa6b-be3e-4b6c-9e65-8f540f4636d9')\"\n",
              "              title=\"Convert this dataframe to an interactive table.\"\n",
              "              style=\"display:none;\">\n",
              "        \n",
              "  <svg xmlns=\"http://www.w3.org/2000/svg\" height=\"24px\"viewBox=\"0 0 24 24\"\n",
              "       width=\"24px\">\n",
              "    <path d=\"M0 0h24v24H0V0z\" fill=\"none\"/>\n",
              "    <path d=\"M18.56 5.44l.94 2.06.94-2.06 2.06-.94-2.06-.94-.94-2.06-.94 2.06-2.06.94zm-11 1L8.5 8.5l.94-2.06 2.06-.94-2.06-.94L8.5 2.5l-.94 2.06-2.06.94zm10 10l.94 2.06.94-2.06 2.06-.94-2.06-.94-.94-2.06-.94 2.06-2.06.94z\"/><path d=\"M17.41 7.96l-1.37-1.37c-.4-.4-.92-.59-1.43-.59-.52 0-1.04.2-1.43.59L10.3 9.45l-7.72 7.72c-.78.78-.78 2.05 0 2.83L4 21.41c.39.39.9.59 1.41.59.51 0 1.02-.2 1.41-.59l7.78-7.78 2.81-2.81c.8-.78.8-2.07 0-2.86zM5.41 20L4 18.59l7.72-7.72 1.47 1.35L5.41 20z\"/>\n",
              "  </svg>\n",
              "      </button>\n",
              "      \n",
              "  <style>\n",
              "    .colab-df-container {\n",
              "      display:flex;\n",
              "      flex-wrap:wrap;\n",
              "      gap: 12px;\n",
              "    }\n",
              "\n",
              "    .colab-df-convert {\n",
              "      background-color: #E8F0FE;\n",
              "      border: none;\n",
              "      border-radius: 50%;\n",
              "      cursor: pointer;\n",
              "      display: none;\n",
              "      fill: #1967D2;\n",
              "      height: 32px;\n",
              "      padding: 0 0 0 0;\n",
              "      width: 32px;\n",
              "    }\n",
              "\n",
              "    .colab-df-convert:hover {\n",
              "      background-color: #E2EBFA;\n",
              "      box-shadow: 0px 1px 2px rgba(60, 64, 67, 0.3), 0px 1px 3px 1px rgba(60, 64, 67, 0.15);\n",
              "      fill: #174EA6;\n",
              "    }\n",
              "\n",
              "    [theme=dark] .colab-df-convert {\n",
              "      background-color: #3B4455;\n",
              "      fill: #D2E3FC;\n",
              "    }\n",
              "\n",
              "    [theme=dark] .colab-df-convert:hover {\n",
              "      background-color: #434B5C;\n",
              "      box-shadow: 0px 1px 3px 1px rgba(0, 0, 0, 0.15);\n",
              "      filter: drop-shadow(0px 1px 2px rgba(0, 0, 0, 0.3));\n",
              "      fill: #FFFFFF;\n",
              "    }\n",
              "  </style>\n",
              "\n",
              "      <script>\n",
              "        const buttonEl =\n",
              "          document.querySelector('#df-ef45fa6b-be3e-4b6c-9e65-8f540f4636d9 button.colab-df-convert');\n",
              "        buttonEl.style.display =\n",
              "          google.colab.kernel.accessAllowed ? 'block' : 'none';\n",
              "\n",
              "        async function convertToInteractive(key) {\n",
              "          const element = document.querySelector('#df-ef45fa6b-be3e-4b6c-9e65-8f540f4636d9');\n",
              "          const dataTable =\n",
              "            await google.colab.kernel.invokeFunction('convertToInteractive',\n",
              "                                                     [key], {});\n",
              "          if (!dataTable) return;\n",
              "\n",
              "          const docLinkHtml = 'Like what you see? Visit the ' +\n",
              "            '<a target=\"_blank\" href=https://colab.research.google.com/notebooks/data_table.ipynb>data table notebook</a>'\n",
              "            + ' to learn more about interactive tables.';\n",
              "          element.innerHTML = '';\n",
              "          dataTable['output_type'] = 'display_data';\n",
              "          await google.colab.output.renderOutput(dataTable, element);\n",
              "          const docLink = document.createElement('div');\n",
              "          docLink.innerHTML = docLinkHtml;\n",
              "          element.appendChild(docLink);\n",
              "        }\n",
              "      </script>\n",
              "    </div>\n",
              "  </div>\n",
              "  "
            ]
          },
          "metadata": {},
          "execution_count": 702
        }
      ]
    },
    {
      "cell_type": "code",
      "source": [
        "tabela_amostra.rename_axis('Amostra', axis = 'columns', inplace=True)\n",
        "tabela_amostra"
      ],
      "metadata": {
        "colab": {
          "base_uri": "https://localhost:8080/",
          "height": 0
        },
        "id": "VhCKpk0oNNxn",
        "outputId": "dedb4992-307b-4a12-e9f3-c281955cf856"
      },
      "execution_count": 703,
      "outputs": [
        {
          "output_type": "execute_result",
          "data": {
            "text/plain": [
              "Amostra  Frequencia  Porcentagem\n",
              "1                 5         5.56\n",
              "2                 5         5.56\n",
              "17                5         5.56\n",
              "16                5         5.56\n",
              "15                5         5.56\n",
              "14                5         5.56\n",
              "13                5         5.56\n",
              "12                5         5.56\n",
              "11                5         5.56\n",
              "10                5         5.56\n",
              "9                 5         5.56\n",
              "8                 5         5.56\n",
              "7                 5         5.56\n",
              "6                 5         5.56\n",
              "5                 5         5.56\n",
              "4                 5         5.56\n",
              "3                 5         5.56\n",
              "18                5         5.56"
            ],
            "text/html": [
              "\n",
              "  <div id=\"df-14d52d7f-f221-4ec3-ad2b-6dab74ec24aa\">\n",
              "    <div class=\"colab-df-container\">\n",
              "      <div>\n",
              "<style scoped>\n",
              "    .dataframe tbody tr th:only-of-type {\n",
              "        vertical-align: middle;\n",
              "    }\n",
              "\n",
              "    .dataframe tbody tr th {\n",
              "        vertical-align: top;\n",
              "    }\n",
              "\n",
              "    .dataframe thead th {\n",
              "        text-align: right;\n",
              "    }\n",
              "</style>\n",
              "<table border=\"1\" class=\"dataframe\">\n",
              "  <thead>\n",
              "    <tr style=\"text-align: right;\">\n",
              "      <th>Amostra</th>\n",
              "      <th>Frequencia</th>\n",
              "      <th>Porcentagem</th>\n",
              "    </tr>\n",
              "  </thead>\n",
              "  <tbody>\n",
              "    <tr>\n",
              "      <th>1</th>\n",
              "      <td>5</td>\n",
              "      <td>5.56</td>\n",
              "    </tr>\n",
              "    <tr>\n",
              "      <th>2</th>\n",
              "      <td>5</td>\n",
              "      <td>5.56</td>\n",
              "    </tr>\n",
              "    <tr>\n",
              "      <th>17</th>\n",
              "      <td>5</td>\n",
              "      <td>5.56</td>\n",
              "    </tr>\n",
              "    <tr>\n",
              "      <th>16</th>\n",
              "      <td>5</td>\n",
              "      <td>5.56</td>\n",
              "    </tr>\n",
              "    <tr>\n",
              "      <th>15</th>\n",
              "      <td>5</td>\n",
              "      <td>5.56</td>\n",
              "    </tr>\n",
              "    <tr>\n",
              "      <th>14</th>\n",
              "      <td>5</td>\n",
              "      <td>5.56</td>\n",
              "    </tr>\n",
              "    <tr>\n",
              "      <th>13</th>\n",
              "      <td>5</td>\n",
              "      <td>5.56</td>\n",
              "    </tr>\n",
              "    <tr>\n",
              "      <th>12</th>\n",
              "      <td>5</td>\n",
              "      <td>5.56</td>\n",
              "    </tr>\n",
              "    <tr>\n",
              "      <th>11</th>\n",
              "      <td>5</td>\n",
              "      <td>5.56</td>\n",
              "    </tr>\n",
              "    <tr>\n",
              "      <th>10</th>\n",
              "      <td>5</td>\n",
              "      <td>5.56</td>\n",
              "    </tr>\n",
              "    <tr>\n",
              "      <th>9</th>\n",
              "      <td>5</td>\n",
              "      <td>5.56</td>\n",
              "    </tr>\n",
              "    <tr>\n",
              "      <th>8</th>\n",
              "      <td>5</td>\n",
              "      <td>5.56</td>\n",
              "    </tr>\n",
              "    <tr>\n",
              "      <th>7</th>\n",
              "      <td>5</td>\n",
              "      <td>5.56</td>\n",
              "    </tr>\n",
              "    <tr>\n",
              "      <th>6</th>\n",
              "      <td>5</td>\n",
              "      <td>5.56</td>\n",
              "    </tr>\n",
              "    <tr>\n",
              "      <th>5</th>\n",
              "      <td>5</td>\n",
              "      <td>5.56</td>\n",
              "    </tr>\n",
              "    <tr>\n",
              "      <th>4</th>\n",
              "      <td>5</td>\n",
              "      <td>5.56</td>\n",
              "    </tr>\n",
              "    <tr>\n",
              "      <th>3</th>\n",
              "      <td>5</td>\n",
              "      <td>5.56</td>\n",
              "    </tr>\n",
              "    <tr>\n",
              "      <th>18</th>\n",
              "      <td>5</td>\n",
              "      <td>5.56</td>\n",
              "    </tr>\n",
              "  </tbody>\n",
              "</table>\n",
              "</div>\n",
              "      <button class=\"colab-df-convert\" onclick=\"convertToInteractive('df-14d52d7f-f221-4ec3-ad2b-6dab74ec24aa')\"\n",
              "              title=\"Convert this dataframe to an interactive table.\"\n",
              "              style=\"display:none;\">\n",
              "        \n",
              "  <svg xmlns=\"http://www.w3.org/2000/svg\" height=\"24px\"viewBox=\"0 0 24 24\"\n",
              "       width=\"24px\">\n",
              "    <path d=\"M0 0h24v24H0V0z\" fill=\"none\"/>\n",
              "    <path d=\"M18.56 5.44l.94 2.06.94-2.06 2.06-.94-2.06-.94-.94-2.06-.94 2.06-2.06.94zm-11 1L8.5 8.5l.94-2.06 2.06-.94-2.06-.94L8.5 2.5l-.94 2.06-2.06.94zm10 10l.94 2.06.94-2.06 2.06-.94-2.06-.94-.94-2.06-.94 2.06-2.06.94z\"/><path d=\"M17.41 7.96l-1.37-1.37c-.4-.4-.92-.59-1.43-.59-.52 0-1.04.2-1.43.59L10.3 9.45l-7.72 7.72c-.78.78-.78 2.05 0 2.83L4 21.41c.39.39.9.59 1.41.59.51 0 1.02-.2 1.41-.59l7.78-7.78 2.81-2.81c.8-.78.8-2.07 0-2.86zM5.41 20L4 18.59l7.72-7.72 1.47 1.35L5.41 20z\"/>\n",
              "  </svg>\n",
              "      </button>\n",
              "      \n",
              "  <style>\n",
              "    .colab-df-container {\n",
              "      display:flex;\n",
              "      flex-wrap:wrap;\n",
              "      gap: 12px;\n",
              "    }\n",
              "\n",
              "    .colab-df-convert {\n",
              "      background-color: #E8F0FE;\n",
              "      border: none;\n",
              "      border-radius: 50%;\n",
              "      cursor: pointer;\n",
              "      display: none;\n",
              "      fill: #1967D2;\n",
              "      height: 32px;\n",
              "      padding: 0 0 0 0;\n",
              "      width: 32px;\n",
              "    }\n",
              "\n",
              "    .colab-df-convert:hover {\n",
              "      background-color: #E2EBFA;\n",
              "      box-shadow: 0px 1px 2px rgba(60, 64, 67, 0.3), 0px 1px 3px 1px rgba(60, 64, 67, 0.15);\n",
              "      fill: #174EA6;\n",
              "    }\n",
              "\n",
              "    [theme=dark] .colab-df-convert {\n",
              "      background-color: #3B4455;\n",
              "      fill: #D2E3FC;\n",
              "    }\n",
              "\n",
              "    [theme=dark] .colab-df-convert:hover {\n",
              "      background-color: #434B5C;\n",
              "      box-shadow: 0px 1px 3px 1px rgba(0, 0, 0, 0.15);\n",
              "      filter: drop-shadow(0px 1px 2px rgba(0, 0, 0, 0.3));\n",
              "      fill: #FFFFFF;\n",
              "    }\n",
              "  </style>\n",
              "\n",
              "      <script>\n",
              "        const buttonEl =\n",
              "          document.querySelector('#df-14d52d7f-f221-4ec3-ad2b-6dab74ec24aa button.colab-df-convert');\n",
              "        buttonEl.style.display =\n",
              "          google.colab.kernel.accessAllowed ? 'block' : 'none';\n",
              "\n",
              "        async function convertToInteractive(key) {\n",
              "          const element = document.querySelector('#df-14d52d7f-f221-4ec3-ad2b-6dab74ec24aa');\n",
              "          const dataTable =\n",
              "            await google.colab.kernel.invokeFunction('convertToInteractive',\n",
              "                                                     [key], {});\n",
              "          if (!dataTable) return;\n",
              "\n",
              "          const docLinkHtml = 'Like what you see? Visit the ' +\n",
              "            '<a target=\"_blank\" href=https://colab.research.google.com/notebooks/data_table.ipynb>data table notebook</a>'\n",
              "            + ' to learn more about interactive tables.';\n",
              "          element.innerHTML = '';\n",
              "          dataTable['output_type'] = 'display_data';\n",
              "          await google.colab.output.renderOutput(dataTable, element);\n",
              "          const docLink = document.createElement('div');\n",
              "          docLink.innerHTML = docLinkHtml;\n",
              "          element.appendChild(docLink);\n",
              "        }\n",
              "      </script>\n",
              "    </div>\n",
              "  </div>\n",
              "  "
            ]
          },
          "metadata": {},
          "execution_count": 703
        }
      ]
    },
    {
      "cell_type": "markdown",
      "source": [
        "### Ponto Médio"
      ],
      "metadata": {
        "id": "ESozr9c5OKFI"
      }
    },
    {
      "cell_type": "code",
      "source": [
        "df.head()"
      ],
      "metadata": {
        "colab": {
          "base_uri": "https://localhost:8080/",
          "height": 0
        },
        "id": "oK9flJxaOnEM",
        "outputId": "7ce96084-06cc-4efe-8eba-65d01fa0202b"
      },
      "execution_count": 704,
      "outputs": [
        {
          "output_type": "execute_result",
          "data": {
            "text/plain": [
              "   Amostra Máquina Operador  Largura\n",
              "0        1  Sulzer    Julio     83.7\n",
              "1        1  Sulzer    Julio     83.4\n",
              "2        1  Sulzer    Julio     84.2\n",
              "3        1  Sulzer    Julio     83.9\n",
              "4        1  Sulzer    Julio     82.7"
            ],
            "text/html": [
              "\n",
              "  <div id=\"df-1617f848-8a5c-4418-abeb-a7e88c1d1eb0\">\n",
              "    <div class=\"colab-df-container\">\n",
              "      <div>\n",
              "<style scoped>\n",
              "    .dataframe tbody tr th:only-of-type {\n",
              "        vertical-align: middle;\n",
              "    }\n",
              "\n",
              "    .dataframe tbody tr th {\n",
              "        vertical-align: top;\n",
              "    }\n",
              "\n",
              "    .dataframe thead th {\n",
              "        text-align: right;\n",
              "    }\n",
              "</style>\n",
              "<table border=\"1\" class=\"dataframe\">\n",
              "  <thead>\n",
              "    <tr style=\"text-align: right;\">\n",
              "      <th></th>\n",
              "      <th>Amostra</th>\n",
              "      <th>Máquina</th>\n",
              "      <th>Operador</th>\n",
              "      <th>Largura</th>\n",
              "    </tr>\n",
              "  </thead>\n",
              "  <tbody>\n",
              "    <tr>\n",
              "      <th>0</th>\n",
              "      <td>1</td>\n",
              "      <td>Sulzer</td>\n",
              "      <td>Julio</td>\n",
              "      <td>83.7</td>\n",
              "    </tr>\n",
              "    <tr>\n",
              "      <th>1</th>\n",
              "      <td>1</td>\n",
              "      <td>Sulzer</td>\n",
              "      <td>Julio</td>\n",
              "      <td>83.4</td>\n",
              "    </tr>\n",
              "    <tr>\n",
              "      <th>2</th>\n",
              "      <td>1</td>\n",
              "      <td>Sulzer</td>\n",
              "      <td>Julio</td>\n",
              "      <td>84.2</td>\n",
              "    </tr>\n",
              "    <tr>\n",
              "      <th>3</th>\n",
              "      <td>1</td>\n",
              "      <td>Sulzer</td>\n",
              "      <td>Julio</td>\n",
              "      <td>83.9</td>\n",
              "    </tr>\n",
              "    <tr>\n",
              "      <th>4</th>\n",
              "      <td>1</td>\n",
              "      <td>Sulzer</td>\n",
              "      <td>Julio</td>\n",
              "      <td>82.7</td>\n",
              "    </tr>\n",
              "  </tbody>\n",
              "</table>\n",
              "</div>\n",
              "      <button class=\"colab-df-convert\" onclick=\"convertToInteractive('df-1617f848-8a5c-4418-abeb-a7e88c1d1eb0')\"\n",
              "              title=\"Convert this dataframe to an interactive table.\"\n",
              "              style=\"display:none;\">\n",
              "        \n",
              "  <svg xmlns=\"http://www.w3.org/2000/svg\" height=\"24px\"viewBox=\"0 0 24 24\"\n",
              "       width=\"24px\">\n",
              "    <path d=\"M0 0h24v24H0V0z\" fill=\"none\"/>\n",
              "    <path d=\"M18.56 5.44l.94 2.06.94-2.06 2.06-.94-2.06-.94-.94-2.06-.94 2.06-2.06.94zm-11 1L8.5 8.5l.94-2.06 2.06-.94-2.06-.94L8.5 2.5l-.94 2.06-2.06.94zm10 10l.94 2.06.94-2.06 2.06-.94-2.06-.94-.94-2.06-.94 2.06-2.06.94z\"/><path d=\"M17.41 7.96l-1.37-1.37c-.4-.4-.92-.59-1.43-.59-.52 0-1.04.2-1.43.59L10.3 9.45l-7.72 7.72c-.78.78-.78 2.05 0 2.83L4 21.41c.39.39.9.59 1.41.59.51 0 1.02-.2 1.41-.59l7.78-7.78 2.81-2.81c.8-.78.8-2.07 0-2.86zM5.41 20L4 18.59l7.72-7.72 1.47 1.35L5.41 20z\"/>\n",
              "  </svg>\n",
              "      </button>\n",
              "      \n",
              "  <style>\n",
              "    .colab-df-container {\n",
              "      display:flex;\n",
              "      flex-wrap:wrap;\n",
              "      gap: 12px;\n",
              "    }\n",
              "\n",
              "    .colab-df-convert {\n",
              "      background-color: #E8F0FE;\n",
              "      border: none;\n",
              "      border-radius: 50%;\n",
              "      cursor: pointer;\n",
              "      display: none;\n",
              "      fill: #1967D2;\n",
              "      height: 32px;\n",
              "      padding: 0 0 0 0;\n",
              "      width: 32px;\n",
              "    }\n",
              "\n",
              "    .colab-df-convert:hover {\n",
              "      background-color: #E2EBFA;\n",
              "      box-shadow: 0px 1px 2px rgba(60, 64, 67, 0.3), 0px 1px 3px 1px rgba(60, 64, 67, 0.15);\n",
              "      fill: #174EA6;\n",
              "    }\n",
              "\n",
              "    [theme=dark] .colab-df-convert {\n",
              "      background-color: #3B4455;\n",
              "      fill: #D2E3FC;\n",
              "    }\n",
              "\n",
              "    [theme=dark] .colab-df-convert:hover {\n",
              "      background-color: #434B5C;\n",
              "      box-shadow: 0px 1px 3px 1px rgba(0, 0, 0, 0.15);\n",
              "      filter: drop-shadow(0px 1px 2px rgba(0, 0, 0, 0.3));\n",
              "      fill: #FFFFFF;\n",
              "    }\n",
              "  </style>\n",
              "\n",
              "      <script>\n",
              "        const buttonEl =\n",
              "          document.querySelector('#df-1617f848-8a5c-4418-abeb-a7e88c1d1eb0 button.colab-df-convert');\n",
              "        buttonEl.style.display =\n",
              "          google.colab.kernel.accessAllowed ? 'block' : 'none';\n",
              "\n",
              "        async function convertToInteractive(key) {\n",
              "          const element = document.querySelector('#df-1617f848-8a5c-4418-abeb-a7e88c1d1eb0');\n",
              "          const dataTable =\n",
              "            await google.colab.kernel.invokeFunction('convertToInteractive',\n",
              "                                                     [key], {});\n",
              "          if (!dataTable) return;\n",
              "\n",
              "          const docLinkHtml = 'Like what you see? Visit the ' +\n",
              "            '<a target=\"_blank\" href=https://colab.research.google.com/notebooks/data_table.ipynb>data table notebook</a>'\n",
              "            + ' to learn more about interactive tables.';\n",
              "          element.innerHTML = '';\n",
              "          dataTable['output_type'] = 'display_data';\n",
              "          await google.colab.output.renderOutput(dataTable, element);\n",
              "          const docLink = document.createElement('div');\n",
              "          docLink.innerHTML = docLinkHtml;\n",
              "          element.appendChild(docLink);\n",
              "        }\n",
              "      </script>\n",
              "    </div>\n",
              "  </div>\n",
              "  "
            ]
          },
          "metadata": {},
          "execution_count": 704
        }
      ]
    },
    {
      "cell_type": "code",
      "source": [
        "#Limite Inferior - Máquina\n",
        "LIM = df['Largura'].min()\n",
        "LIM"
      ],
      "metadata": {
        "colab": {
          "base_uri": "https://localhost:8080/"
        },
        "id": "-SMuBUvCN6kg",
        "outputId": "f0b71d8c-2e95-4972-cdbe-078a67994e8f"
      },
      "execution_count": 705,
      "outputs": [
        {
          "output_type": "execute_result",
          "data": {
            "text/plain": [
              "82.6"
            ]
          },
          "metadata": {},
          "execution_count": 705
        }
      ]
    },
    {
      "cell_type": "code",
      "source": [
        "#Limite Superior - Máquina\n",
        "LSM = df['Largura'].max()\n",
        "LSM"
      ],
      "metadata": {
        "colab": {
          "base_uri": "https://localhost:8080/"
        },
        "id": "3Vv62JvCOtjT",
        "outputId": "d1beb009-736c-44ac-eaf0-2e15bc375b0b"
      },
      "execution_count": 706,
      "outputs": [
        {
          "output_type": "execute_result",
          "data": {
            "text/plain": [
              "89.5"
            ]
          },
          "metadata": {},
          "execution_count": 706
        }
      ]
    },
    {
      "cell_type": "code",
      "source": [
        "#Ponto Médio - Máquina\n",
        "PM = (LSM - LIM)/2\n",
        "PM"
      ],
      "metadata": {
        "colab": {
          "base_uri": "https://localhost:8080/"
        },
        "id": "WmwnFt5iOxbE",
        "outputId": "6fd29899-efdc-488b-f277-6242eeb71383"
      },
      "execution_count": 707,
      "outputs": [
        {
          "output_type": "execute_result",
          "data": {
            "text/plain": [
              "3.450000000000003"
            ]
          },
          "metadata": {},
          "execution_count": 707
        }
      ]
    },
    {
      "cell_type": "code",
      "source": [
        "#Amplitude\n",
        "Amaq = LSM - LIM\n",
        "Amaq"
      ],
      "metadata": {
        "colab": {
          "base_uri": "https://localhost:8080/"
        },
        "id": "CVmry7_-O-6F",
        "outputId": "663baee3-843c-42b5-b23e-d9e947917182"
      },
      "execution_count": 708,
      "outputs": [
        {
          "output_type": "execute_result",
          "data": {
            "text/plain": [
              "6.900000000000006"
            ]
          },
          "metadata": {},
          "execution_count": 708
        }
      ]
    },
    {
      "cell_type": "markdown",
      "source": [
        "###Calculando o número de classes"
      ],
      "metadata": {
        "id": "fW3il6H0UMeG"
      }
    },
    {
      "cell_type": "markdown",
      "source": [
        "![image.png](data:image/png;base64,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)"
      ],
      "metadata": {
        "id": "iQbvzS-_UZhK"
      }
    },
    {
      "cell_type": "code",
      "source": [
        "#Fórmula de Sturges\n",
        "n = df.shape[0]\n",
        "n = 1 + (10/3) * np.log10(n)\n",
        "n = int(n.round(0))\n",
        "n"
      ],
      "metadata": {
        "colab": {
          "base_uri": "https://localhost:8080/"
        },
        "id": "QVfcGi4UUQaS",
        "outputId": "0c65a2a4-bd3d-4fff-b9f6-9e319858cf95"
      },
      "execution_count": 709,
      "outputs": [
        {
          "output_type": "execute_result",
          "data": {
            "text/plain": [
              "8"
            ]
          },
          "metadata": {},
          "execution_count": 709
        }
      ]
    },
    {
      "cell_type": "code",
      "source": [
        "#Criando o histograma sem visão gráfica\n",
        "frequencia = pd.value_counts(pd.cut(x = df.Largura, bins = n, include_lowest= True), sort = False)\n",
        "frequencia"
      ],
      "metadata": {
        "colab": {
          "base_uri": "https://localhost:8080/"
        },
        "id": "dhpWqsdLXttt",
        "outputId": "96c9c795-8ea0-4186-a006-6ad59a97dc98"
      },
      "execution_count": 710,
      "outputs": [
        {
          "output_type": "execute_result",
          "data": {
            "text/plain": [
              "(82.592, 83.462]     6\n",
              "(83.462, 84.325]     9\n",
              "(84.325, 85.188]     8\n",
              "(85.188, 86.05]     23\n",
              "(86.05, 86.912]     20\n",
              "(86.912, 87.775]     6\n",
              "(87.775, 88.638]    12\n",
              "(88.638, 89.5]       6\n",
              "Name: Largura, dtype: int64"
            ]
          },
          "metadata": {},
          "execution_count": 710
        }
      ]
    },
    {
      "cell_type": "code",
      "source": [
        "#Criando o histograma sem visão gráfica\n",
        "percentual = pd.value_counts(pd.cut(x = df.Largura, bins = n, include_lowest= True), sort = False, normalize = True)*100\n",
        "percentual"
      ],
      "metadata": {
        "colab": {
          "base_uri": "https://localhost:8080/"
        },
        "id": "E4cigTftXxm5",
        "outputId": "7356a90a-120a-484d-fdc2-3d8360089616"
      },
      "execution_count": 711,
      "outputs": [
        {
          "output_type": "execute_result",
          "data": {
            "text/plain": [
              "(82.592, 83.462]     6.666667\n",
              "(83.462, 84.325]    10.000000\n",
              "(84.325, 85.188]     8.888889\n",
              "(85.188, 86.05]     25.555556\n",
              "(86.05, 86.912]     22.222222\n",
              "(86.912, 87.775]     6.666667\n",
              "(87.775, 88.638]    13.333333\n",
              "(88.638, 89.5]       6.666667\n",
              "Name: Largura, dtype: float64"
            ]
          },
          "metadata": {},
          "execution_count": 711
        }
      ]
    },
    {
      "cell_type": "code",
      "source": [
        "#Histograma das larguras\n",
        "ax = sns.distplot(df.Largura, bins = 8 ,kde = True);\n",
        "ax.figure.set_size_inches(10,4)\n",
        "ax.set_title(\"Distribuição de Frequências - Largura\")\n",
        "ax.set_xlabel(\"Milímetros\")\n",
        "ax;"
      ],
      "metadata": {
        "colab": {
          "base_uri": "https://localhost:8080/",
          "height": 0
        },
        "id": "6Aj9CkIZVDeO",
        "outputId": "4a53be05-e9aa-44c6-a818-859cdd0d4ca8"
      },
      "execution_count": 712,
      "outputs": [
        {
          "output_type": "stream",
          "name": "stderr",
          "text": [
            "<ipython-input-712-ca49558d4e3b>:2: UserWarning:\n",
            "\n",
            "\n",
            "\n",
            "`distplot` is a deprecated function and will be removed in seaborn v0.14.0.\n",
            "\n",
            "Please adapt your code to use either `displot` (a figure-level function with\n",
            "similar flexibility) or `histplot` (an axes-level function for histograms).\n",
            "\n",
            "For a guide to updating your code to use the new functions, please see\n",
            "https://gist.github.com/mwaskom/de44147ed2974457ad6372750bbe5751\n",
            "\n",
            "\n"
          ]
        },
        {
          "output_type": "display_data",
          "data": {
            "text/plain": [
              "<Figure size 1000x400 with 1 Axes>"
            ],
            "image/png": "[encoded data removed]"
          },
          "metadata": {}
        }
      ]
    },
    {
      "cell_type": "markdown",
      "source": [
        "###Medidas Separatrizes"
      ],
      "metadata": {
        "id": "x_YJRoA00_M2"
      }
    },
    {
      "cell_type": "code",
      "source": [
        "df.Largura.mean()"
      ],
      "metadata": {
        "id": "cxDAlmX4VNp_",
        "colab": {
          "base_uri": "https://localhost:8080/"
        },
        "outputId": "46fb0244-1407-4860-b20a-e65d96cfef92"
      },
      "execution_count": 713,
      "outputs": [
        {
          "output_type": "execute_result",
          "data": {
            "text/plain": [
              "86.07"
            ]
          },
          "metadata": {},
          "execution_count": 713
        }
      ]
    },
    {
      "cell_type": "code",
      "source": [
        "df.Largura.mode()"
      ],
      "metadata": {
        "colab": {
          "base_uri": "https://localhost:8080/"
        },
        "id": "J4JrXbWi1Sxe",
        "outputId": "4342386c-fc0d-481e-cbf6-77cb977c3825"
      },
      "execution_count": 714,
      "outputs": [
        {
          "output_type": "execute_result",
          "data": {
            "text/plain": [
              "0    86.1\n",
              "1    86.9\n",
              "Name: Largura, dtype: float64"
            ]
          },
          "metadata": {},
          "execution_count": 714
        }
      ]
    },
    {
      "cell_type": "code",
      "source": [
        "mediana = df.Largura.sort_values()\n",
        "mediana = mediana.reset_index()\n",
        "mediana"
      ],
      "metadata": {
        "colab": {
          "base_uri": "https://localhost:8080/",
          "height": 423
        },
        "id": "6gxPA3cN1Yf-",
        "outputId": "76a94632-1a8c-4bc5-d17c-e1ff8fd7909d"
      },
      "execution_count": 715,
      "outputs": [
        {
          "output_type": "execute_result",
          "data": {
            "text/plain": [
              "    index  Largura\n",
              "0      68     82.6\n",
              "1       4     82.7\n",
              "2      61     82.7\n",
              "3      64     82.9\n",
              "4       1     83.4\n",
              "..    ...      ...\n",
              "85     87     88.8\n",
              "86     29     88.8\n",
              "87     88     89.2\n",
              "88     57     89.2\n",
              "89     55     89.5\n",
              "\n",
              "[90 rows x 2 columns]"
            ],
            "text/html": [
              "\n",
              "  <div id=\"df-45659b51-ae64-4bb5-9021-2514532ce4ba\">\n",
              "    <div class=\"colab-df-container\">\n",
              "      <div>\n",
              "<style scoped>\n",
              "    .dataframe tbody tr th:only-of-type {\n",
              "        vertical-align: middle;\n",
              "    }\n",
              "\n",
              "    .dataframe tbody tr th {\n",
              "        vertical-align: top;\n",
              "    }\n",
              "\n",
              "    .dataframe thead th {\n",
              "        text-align: right;\n",
              "    }\n",
              "</style>\n",
              "<table border=\"1\" class=\"dataframe\">\n",
              "  <thead>\n",
              "    <tr style=\"text-align: right;\">\n",
              "      <th></th>\n",
              "      <th>index</th>\n",
              "      <th>Largura</th>\n",
              "    </tr>\n",
              "  </thead>\n",
              "  <tbody>\n",
              "    <tr>\n",
              "      <th>0</th>\n",
              "      <td>68</td>\n",
              "      <td>82.6</td>\n",
              "    </tr>\n",
              "    <tr>\n",
              "      <th>1</th>\n",
              "      <td>4</td>\n",
              "      <td>82.7</td>\n",
              "    </tr>\n",
              "    <tr>\n",
              "      <th>2</th>\n",
              "      <td>61</td>\n",
              "      <td>82.7</td>\n",
              "    </tr>\n",
              "    <tr>\n",
              "      <th>3</th>\n",
              "      <td>64</td>\n",
              "      <td>82.9</td>\n",
              "    </tr>\n",
              "    <tr>\n",
              "      <th>4</th>\n",
              "      <td>1</td>\n",
              "      <td>83.4</td>\n",
              "    </tr>\n",
              "    <tr>\n",
              "      <th>...</th>\n",
              "      <td>...</td>\n",
              "      <td>...</td>\n",
              "    </tr>\n",
              "    <tr>\n",
              "      <th>85</th>\n",
              "      <td>87</td>\n",
              "      <td>88.8</td>\n",
              "    </tr>\n",
              "    <tr>\n",
              "      <th>86</th>\n",
              "      <td>29</td>\n",
              "      <td>88.8</td>\n",
              "    </tr>\n",
              "    <tr>\n",
              "      <th>87</th>\n",
              "      <td>88</td>\n",
              "      <td>89.2</td>\n",
              "    </tr>\n",
              "    <tr>\n",
              "      <th>88</th>\n",
              "      <td>57</td>\n",
              "      <td>89.2</td>\n",
              "    </tr>\n",
              "    <tr>\n",
              "      <th>89</th>\n",
              "      <td>55</td>\n",
              "      <td>89.5</td>\n",
              "    </tr>\n",
              "  </tbody>\n",
              "</table>\n",
              "<p>90 rows × 2 columns</p>\n",
              "</div>\n",
              "      <button class=\"colab-df-convert\" onclick=\"convertToInteractive('df-45659b51-ae64-4bb5-9021-2514532ce4ba')\"\n",
              "              title=\"Convert this dataframe to an interactive table.\"\n",
              "              style=\"display:none;\">\n",
              "        \n",
              "  <svg xmlns=\"http://www.w3.org/2000/svg\" height=\"24px\"viewBox=\"0 0 24 24\"\n",
              "       width=\"24px\">\n",
              "    <path d=\"M0 0h24v24H0V0z\" fill=\"none\"/>\n",
              "    <path d=\"M18.56 5.44l.94 2.06.94-2.06 2.06-.94-2.06-.94-.94-2.06-.94 2.06-2.06.94zm-11 1L8.5 8.5l.94-2.06 2.06-.94-2.06-.94L8.5 2.5l-.94 2.06-2.06.94zm10 10l.94 2.06.94-2.06 2.06-.94-2.06-.94-.94-2.06-.94 2.06-2.06.94z\"/><path d=\"M17.41 7.96l-1.37-1.37c-.4-.4-.92-.59-1.43-.59-.52 0-1.04.2-1.43.59L10.3 9.45l-7.72 7.72c-.78.78-.78 2.05 0 2.83L4 21.41c.39.39.9.59 1.41.59.51 0 1.02-.2 1.41-.59l7.78-7.78 2.81-2.81c.8-.78.8-2.07 0-2.86zM5.41 20L4 18.59l7.72-7.72 1.47 1.35L5.41 20z\"/>\n",
              "  </svg>\n",
              "      </button>\n",
              "      \n",
              "  <style>\n",
              "    .colab-df-container {\n",
              "      display:flex;\n",
              "      flex-wrap:wrap;\n",
              "      gap: 12px;\n",
              "    }\n",
              "\n",
              "    .colab-df-convert {\n",
              "      background-color: #E8F0FE;\n",
              "      border: none;\n",
              "      border-radius: 50%;\n",
              "      cursor: pointer;\n",
              "      display: none;\n",
              "      fill: #1967D2;\n",
              "      height: 32px;\n",
              "      padding: 0 0 0 0;\n",
              "      width: 32px;\n",
              "    }\n",
              "\n",
              "    .colab-df-convert:hover {\n",
              "      background-color: #E2EBFA;\n",
              "      box-shadow: 0px 1px 2px rgba(60, 64, 67, 0.3), 0px 1px 3px 1px rgba(60, 64, 67, 0.15);\n",
              "      fill: #174EA6;\n",
              "    }\n",
              "\n",
              "    [theme=dark] .colab-df-convert {\n",
              "      background-color: #3B4455;\n",
              "      fill: #D2E3FC;\n",
              "    }\n",
              "\n",
              "    [theme=dark] .colab-df-convert:hover {\n",
              "      background-color: #434B5C;\n",
              "      box-shadow: 0px 1px 3px 1px rgba(0, 0, 0, 0.15);\n",
              "      filter: drop-shadow(0px 1px 2px rgba(0, 0, 0, 0.3));\n",
              "      fill: #FFFFFF;\n",
              "    }\n",
              "  </style>\n",
              "\n",
              "      <script>\n",
              "        const buttonEl =\n",
              "          document.querySelector('#df-45659b51-ae64-4bb5-9021-2514532ce4ba button.colab-df-convert');\n",
              "        buttonEl.style.display =\n",
              "          google.colab.kernel.accessAllowed ? 'block' : 'none';\n",
              "\n",
              "        async function convertToInteractive(key) {\n",
              "          const element = document.querySelector('#df-45659b51-ae64-4bb5-9021-2514532ce4ba');\n",
              "          const dataTable =\n",
              "            await google.colab.kernel.invokeFunction('convertToInteractive',\n",
              "                                                     [key], {});\n",
              "          if (!dataTable) return;\n",
              "\n",
              "          const docLinkHtml = 'Like what you see? Visit the ' +\n",
              "            '<a target=\"_blank\" href=https://colab.research.google.com/notebooks/data_table.ipynb>data table notebook</a>'\n",
              "            + ' to learn more about interactive tables.';\n",
              "          element.innerHTML = '';\n",
              "          dataTable['output_type'] = 'display_data';\n",
              "          await google.colab.output.renderOutput(dataTable, element);\n",
              "          const docLink = document.createElement('div');\n",
              "          docLink.innerHTML = docLinkHtml;\n",
              "          element.appendChild(docLink);\n",
              "        }\n",
              "      </script>\n",
              "    </div>\n",
              "  </div>\n",
              "  "
            ]
          },
          "metadata": {},
          "execution_count": 715
        }
      ]
    },
    {
      "cell_type": "code",
      "source": [
        "elemento = (mediana.shape[0])/2"
      ],
      "metadata": {
        "id": "yTswEpmj1gBC"
      },
      "execution_count": 716,
      "outputs": []
    },
    {
      "cell_type": "code",
      "source": [
        "mediana.loc[elemento - 1]"
      ],
      "metadata": {
        "colab": {
          "base_uri": "https://localhost:8080/"
        },
        "id": "q0nFzcQQ2e7P",
        "outputId": "888aa459-75b3-4c8f-8930-d46cfeae057c"
      },
      "execution_count": 717,
      "outputs": [
        {
          "output_type": "execute_result",
          "data": {
            "text/plain": [
              "index      17.0\n",
              "Largura    86.0\n",
              "Name: 44, dtype: float64"
            ]
          },
          "metadata": {},
          "execution_count": 717
        }
      ]
    },
    {
      "cell_type": "markdown",
      "source": [
        "###Medidas dos Operadores por Máquina"
      ],
      "metadata": {
        "id": "Cep-F5wl4AiS"
      }
    },
    {
      "cell_type": "code",
      "source": [
        "#Histograma das larguras\n",
        "julio_Sulzer = df.query(\"Operador == 'Julio' and Máquina == 'Sulzer'\")\n",
        "ax = sns.histplot(julio_Sulzer.Largura, kde = True, bins = 8);\n",
        "ax.figure.set_size_inches(10,4)\n",
        "ax.set_title(\"Distribuição Largura Sulzer - Operador Júlio \")\n",
        "ax.set_xlabel(\"Milímetros\")\n",
        "ax;\n",
        "\n",
        "julio_Nova = df.query(\"Operador == 'Julio' and Máquina == 'Nova'\")\n",
        "ax = sns.histplot(julio_Nova.Largura, kde = True, bins = 8);\n",
        "ax.figure.set_size_inches(10,4)\n",
        "ax.set_title(\"Distribuição Largura Nova - Operador Júlio \")\n",
        "ax.set_xlabel(\"Milímetros\")\n",
        "ax;"
      ],
      "metadata": {
        "colab": {
          "base_uri": "https://localhost:8080/",
          "height": 411
        },
        "id": "WxRi7D3s36hI",
        "outputId": "182e2cd3-192b-4f44-e842-f9820eac8028"
      },
      "execution_count": 718,
      "outputs": [
        {
          "output_type": "display_data",
          "data": {
            "text/plain": [
              "<Figure size 1000x400 with 1 Axes>"
            ],
            "image/png": "[encoded data removed]"
          },
          "metadata": {}
        }
      ]
    },
    {
      "cell_type": "code",
      "source": [
        "julio_Sulzer = df.query(\"Operador == 'Julio'\")\n",
        "ax = sns.boxplot(x = 'Largura', y = 'Máquina', data = julio_Sulzer,orient = 'h')\n",
        "ax.figure.set_size_inches(10,4)\n",
        "ax.set_title(\"Distribuição de Largura - Júlio\")\n",
        "ax.set_xlabel(\"Valor\")\n",
        "ax;"
      ],
      "metadata": {
        "colab": {
          "base_uri": "https://localhost:8080/",
          "height": 411
        },
        "id": "HZqHX-XKCLhM",
        "outputId": "7f3f8f3e-9e6d-4a5f-ad3a-02ae3015c5b6"
      },
      "execution_count": 719,
      "outputs": [
        {
          "output_type": "display_data",
          "data": {
            "text/plain": [
              "<Figure size 1000x400 with 1 Axes>"
            ],
            "image/png": "[encoded data removed]"
          },
          "metadata": {}
        }
      ]
    },
    {
      "cell_type": "code",
      "source": [
        "df.Operador.unique()"
      ],
      "metadata": {
        "colab": {
          "base_uri": "https://localhost:8080/"
        },
        "id": "l-pKJRnPBig0",
        "outputId": "6098e02d-599c-457e-e9d6-3d4732319677"
      },
      "execution_count": 720,
      "outputs": [
        {
          "output_type": "execute_result",
          "data": {
            "text/plain": [
              "array(['Julio', 'Gerardo', 'Luis'], dtype=object)"
            ]
          },
          "metadata": {},
          "execution_count": 720
        }
      ]
    },
    {
      "cell_type": "code",
      "source": [
        "#Histograma das larguras\n",
        "Gerardo_Sulzer = df.query(\"Operador == 'Gerardo' and Máquina == 'Sulzer'\")\n",
        "ax = sns.histplot(Gerardo_Sulzer.Largura, kde = True, bins = 8);\n",
        "ax.figure.set_size_inches(10,4)\n",
        "ax.set_title(\"Distribuição Largura Nova - Operador Gerardo \")\n",
        "ax.set_xlabel(\"Milímetros\")\n",
        "ax;\n",
        "\n",
        "Gerardo_Nova = df.query(\"Operador == 'Gerardo' and Máquina == 'Nova'\")\n",
        "ax = sns.histplot(Gerardo_Nova.Largura, kde = True, bins = 8);\n",
        "ax.figure.set_size_inches(10,4)\n",
        "ax.set_title(\"Distribuição Largura - Operador Gerardo \")\n",
        "ax.set_xlabel(\"Milímetros\")\n",
        "ax;"
      ],
      "metadata": {
        "colab": {
          "base_uri": "https://localhost:8080/",
          "height": 410
        },
        "id": "U2MOC9S_BKDn",
        "outputId": "8bee46ec-5bd0-4752-9d0b-ea521b49d1a9"
      },
      "execution_count": 721,
      "outputs": [
        {
          "output_type": "display_data",
          "data": {
            "text/plain": [
              "<Figure size 1000x400 with 1 Axes>"
            ],
            "image/png": "[encoded data removed]"
          },
          "metadata": {}
        }
      ]
    },
    {
      "cell_type": "code",
      "source": [
        "Gerardo_Sulzer = df.query(\"Operador == 'Gerardo'\")\n",
        "ax = sns.boxplot(x = 'Largura', y = 'Máquina', data = Gerardo_Sulzer,orient = 'h')\n",
        "ax.figure.set_size_inches(10,4)\n",
        "ax.set_title(\"Distribuição de Largura - Gerardo\")\n",
        "ax.set_xlabel(\"Valor\")\n",
        "ax;"
      ],
      "metadata": {
        "colab": {
          "base_uri": "https://localhost:8080/",
          "height": 410
        },
        "id": "AluYUBdJCU2c",
        "outputId": "123e2cd5-cdc7-466d-cd50-6d5ed618ea8b"
      },
      "execution_count": 722,
      "outputs": [
        {
          "output_type": "display_data",
          "data": {
            "text/plain": [
              "<Figure size 1000x400 with 1 Axes>"
            ],
            "image/png": "[encoded data removed]"
          },
          "metadata": {}
        }
      ]
    },
    {
      "cell_type": "code",
      "source": [
        "#Histograma das larguras\n",
        "Luis_Sulzer = df.query(\"Operador == 'Luis' and Máquina == 'Sulzer'\")\n",
        "ax = sns.histplot(Luis_Sulzer.Largura, kde = True, bins = 8);\n",
        "ax.figure.set_size_inches(10,4)\n",
        "ax.set_title(\"Distribuição Largura Nova - Operador Gerardo \")\n",
        "ax.set_xlabel(\"Milímetros\")\n",
        "ax;\n",
        "\n",
        "Luis_Nova = df.query(\"Operador == 'Luis' and Máquina == 'Nova'\")\n",
        "ax = sns.histplot(Luis_Nova.Largura, kde = True, bins = 8);\n",
        "ax.figure.set_size_inches(10,4)\n",
        "ax.set_title(\"Distribuição Largura - Operador Gerardo \")\n",
        "ax.set_xlabel(\"Milímetros\")\n",
        "ax;"
      ],
      "metadata": {
        "colab": {
          "base_uri": "https://localhost:8080/",
          "height": 410
        },
        "id": "DFVG8RYDB7MA",
        "outputId": "0ac778af-81e0-4c30-e9d2-76fde9a5d076"
      },
      "execution_count": 723,
      "outputs": [
        {
          "output_type": "display_data",
          "data": {
            "text/plain": [
              "<Figure size 1000x400 with 1 Axes>"
            ],
            "image/png": "[encoded data removed]"
          },
          "metadata": {}
        }
      ]
    },
    {
      "cell_type": "code",
      "source": [
        "Luis_Sulzer = df.query(\"Operador == 'Luis'\")\n",
        "ax = sns.boxplot(x = 'Largura', y = 'Máquina', data = Luis_Sulzer,orient = 'h')\n",
        "ax.figure.set_size_inches(10,4)\n",
        "ax.set_title(\"Distribuição de Largura - Luis\")\n",
        "ax.set_xlabel(\"Valor\")\n",
        "ax;"
      ],
      "metadata": {
        "colab": {
          "base_uri": "https://localhost:8080/",
          "height": 410
        },
        "id": "mlMxpVX8CxCJ",
        "outputId": "bcb352aa-f4fc-426d-bfe1-682fb28249dc"
      },
      "execution_count": 724,
      "outputs": [
        {
          "output_type": "display_data",
          "data": {
            "text/plain": [
              "<Figure size 1000x400 with 1 Axes>"
            ],
            "image/png": "[encoded data removed]"
          },
          "metadata": {}
        }
      ]
    },
    {
      "cell_type": "code",
      "source": [
        "df.head()"
      ],
      "metadata": {
        "colab": {
          "base_uri": "https://localhost:8080/",
          "height": 206
        },
        "id": "o2MR0mqBExmm",
        "outputId": "0b550ba1-3ebc-4ef3-814d-374124a15e60"
      },
      "execution_count": 725,
      "outputs": [
        {
          "output_type": "execute_result",
          "data": {
            "text/plain": [
              "   Amostra Máquina Operador  Largura\n",
              "0        1  Sulzer    Julio     83.7\n",
              "1        1  Sulzer    Julio     83.4\n",
              "2        1  Sulzer    Julio     84.2\n",
              "3        1  Sulzer    Julio     83.9\n",
              "4        1  Sulzer    Julio     82.7"
            ],
            "text/html": [
              "\n",
              "  <div id=\"df-18085b50-727e-4faf-b5d0-a066199e3cbd\">\n",
              "    <div class=\"colab-df-container\">\n",
              "      <div>\n",
              "<style scoped>\n",
              "    .dataframe tbody tr th:only-of-type {\n",
              "        vertical-align: middle;\n",
              "    }\n",
              "\n",
              "    .dataframe tbody tr th {\n",
              "        vertical-align: top;\n",
              "    }\n",
              "\n",
              "    .dataframe thead th {\n",
              "        text-align: right;\n",
              "    }\n",
              "</style>\n",
              "<table border=\"1\" class=\"dataframe\">\n",
              "  <thead>\n",
              "    <tr style=\"text-align: right;\">\n",
              "      <th></th>\n",
              "      <th>Amostra</th>\n",
              "      <th>Máquina</th>\n",
              "      <th>Operador</th>\n",
              "      <th>Largura</th>\n",
              "    </tr>\n",
              "  </thead>\n",
              "  <tbody>\n",
              "    <tr>\n",
              "      <th>0</th>\n",
              "      <td>1</td>\n",
              "      <td>Sulzer</td>\n",
              "      <td>Julio</td>\n",
              "      <td>83.7</td>\n",
              "    </tr>\n",
              "    <tr>\n",
              "      <th>1</th>\n",
              "      <td>1</td>\n",
              "      <td>Sulzer</td>\n",
              "      <td>Julio</td>\n",
              "      <td>83.4</td>\n",
              "    </tr>\n",
              "    <tr>\n",
              "      <th>2</th>\n",
              "      <td>1</td>\n",
              "      <td>Sulzer</td>\n",
              "      <td>Julio</td>\n",
              "      <td>84.2</td>\n",
              "    </tr>\n",
              "    <tr>\n",
              "      <th>3</th>\n",
              "      <td>1</td>\n",
              "      <td>Sulzer</td>\n",
              "      <td>Julio</td>\n",
              "      <td>83.9</td>\n",
              "    </tr>\n",
              "    <tr>\n",
              "      <th>4</th>\n",
              "      <td>1</td>\n",
              "      <td>Sulzer</td>\n",
              "      <td>Julio</td>\n",
              "      <td>82.7</td>\n",
              "    </tr>\n",
              "  </tbody>\n",
              "</table>\n",
              "</div>\n",
              "      <button class=\"colab-df-convert\" onclick=\"convertToInteractive('df-18085b50-727e-4faf-b5d0-a066199e3cbd')\"\n",
              "              title=\"Convert this dataframe to an interactive table.\"\n",
              "              style=\"display:none;\">\n",
              "        \n",
              "  <svg xmlns=\"http://www.w3.org/2000/svg\" height=\"24px\"viewBox=\"0 0 24 24\"\n",
              "       width=\"24px\">\n",
              "    <path d=\"M0 0h24v24H0V0z\" fill=\"none\"/>\n",
              "    <path d=\"M18.56 5.44l.94 2.06.94-2.06 2.06-.94-2.06-.94-.94-2.06-.94 2.06-2.06.94zm-11 1L8.5 8.5l.94-2.06 2.06-.94-2.06-.94L8.5 2.5l-.94 2.06-2.06.94zm10 10l.94 2.06.94-2.06 2.06-.94-2.06-.94-.94-2.06-.94 2.06-2.06.94z\"/><path d=\"M17.41 7.96l-1.37-1.37c-.4-.4-.92-.59-1.43-.59-.52 0-1.04.2-1.43.59L10.3 9.45l-7.72 7.72c-.78.78-.78 2.05 0 2.83L4 21.41c.39.39.9.59 1.41.59.51 0 1.02-.2 1.41-.59l7.78-7.78 2.81-2.81c.8-.78.8-2.07 0-2.86zM5.41 20L4 18.59l7.72-7.72 1.47 1.35L5.41 20z\"/>\n",
              "  </svg>\n",
              "      </button>\n",
              "      \n",
              "  <style>\n",
              "    .colab-df-container {\n",
              "      display:flex;\n",
              "      flex-wrap:wrap;\n",
              "      gap: 12px;\n",
              "    }\n",
              "\n",
              "    .colab-df-convert {\n",
              "      background-color: #E8F0FE;\n",
              "      border: none;\n",
              "      border-radius: 50%;\n",
              "      cursor: pointer;\n",
              "      display: none;\n",
              "      fill: #1967D2;\n",
              "      height: 32px;\n",
              "      padding: 0 0 0 0;\n",
              "      width: 32px;\n",
              "    }\n",
              "\n",
              "    .colab-df-convert:hover {\n",
              "      background-color: #E2EBFA;\n",
              "      box-shadow: 0px 1px 2px rgba(60, 64, 67, 0.3), 0px 1px 3px 1px rgba(60, 64, 67, 0.15);\n",
              "      fill: #174EA6;\n",
              "    }\n",
              "\n",
              "    [theme=dark] .colab-df-convert {\n",
              "      background-color: #3B4455;\n",
              "      fill: #D2E3FC;\n",
              "    }\n",
              "\n",
              "    [theme=dark] .colab-df-convert:hover {\n",
              "      background-color: #434B5C;\n",
              "      box-shadow: 0px 1px 3px 1px rgba(0, 0, 0, 0.15);\n",
              "      filter: drop-shadow(0px 1px 2px rgba(0, 0, 0, 0.3));\n",
              "      fill: #FFFFFF;\n",
              "    }\n",
              "  </style>\n",
              "\n",
              "      <script>\n",
              "        const buttonEl =\n",
              "          document.querySelector('#df-18085b50-727e-4faf-b5d0-a066199e3cbd button.colab-df-convert');\n",
              "        buttonEl.style.display =\n",
              "          google.colab.kernel.accessAllowed ? 'block' : 'none';\n",
              "\n",
              "        async function convertToInteractive(key) {\n",
              "          const element = document.querySelector('#df-18085b50-727e-4faf-b5d0-a066199e3cbd');\n",
              "          const dataTable =\n",
              "            await google.colab.kernel.invokeFunction('convertToInteractive',\n",
              "                                                     [key], {});\n",
              "          if (!dataTable) return;\n",
              "\n",
              "          const docLinkHtml = 'Like what you see? Visit the ' +\n",
              "            '<a target=\"_blank\" href=https://colab.research.google.com/notebooks/data_table.ipynb>data table notebook</a>'\n",
              "            + ' to learn more about interactive tables.';\n",
              "          element.innerHTML = '';\n",
              "          dataTable['output_type'] = 'display_data';\n",
              "          await google.colab.output.renderOutput(dataTable, element);\n",
              "          const docLink = document.createElement('div');\n",
              "          docLink.innerHTML = docLinkHtml;\n",
              "          element.appendChild(docLink);\n",
              "        }\n",
              "      </script>\n",
              "    </div>\n",
              "  </div>\n",
              "  "
            ]
          },
          "metadata": {},
          "execution_count": 725
        }
      ]
    },
    {
      "cell_type": "code",
      "source": [
        "media = df.groupby(['Operador', 'Máquina'])['Largura'].mean()\n",
        "media = pd.DataFrame(media)\n",
        "media"
      ],
      "metadata": {
        "colab": {
          "base_uri": "https://localhost:8080/",
          "height": 269
        },
        "id": "G4MzyezlW6p7",
        "outputId": "7195853d-3014-4433-cd23-06f77080f429"
      },
      "execution_count": 735,
      "outputs": [
        {
          "output_type": "execute_result",
          "data": {
            "text/plain": [
              "                    Largura\n",
              "Operador Máquina           \n",
              "Gerardo  Nova     86.773333\n",
              "         Sulzer   85.613333\n",
              "Julio    Nova     85.366667\n",
              "         Sulzer   83.693333\n",
              "Luis     Nova     88.613333\n",
              "         Sulzer   86.360000"
            ],
            "text/html": [
              "\n",
              "  <div id=\"df-2e4b5879-0b74-419e-9912-e819b0ac5013\">\n",
              "    <div class=\"colab-df-container\">\n",
              "      <div>\n",
              "<style scoped>\n",
              "    .dataframe tbody tr th:only-of-type {\n",
              "        vertical-align: middle;\n",
              "    }\n",
              "\n",
              "    .dataframe tbody tr th {\n",
              "        vertical-align: top;\n",
              "    }\n",
              "\n",
              "    .dataframe thead th {\n",
              "        text-align: right;\n",
              "    }\n",
              "</style>\n",
              "<table border=\"1\" class=\"dataframe\">\n",
              "  <thead>\n",
              "    <tr style=\"text-align: right;\">\n",
              "      <th></th>\n",
              "      <th></th>\n",
              "      <th>Largura</th>\n",
              "    </tr>\n",
              "    <tr>\n",
              "      <th>Operador</th>\n",
              "      <th>Máquina</th>\n",
              "      <th></th>\n",
              "    </tr>\n",
              "  </thead>\n",
              "  <tbody>\n",
              "    <tr>\n",
              "      <th rowspan=\"2\" valign=\"top\">Gerardo</th>\n",
              "      <th>Nova</th>\n",
              "      <td>86.773333</td>\n",
              "    </tr>\n",
              "    <tr>\n",
              "      <th>Sulzer</th>\n",
              "      <td>85.613333</td>\n",
              "    </tr>\n",
              "    <tr>\n",
              "      <th rowspan=\"2\" valign=\"top\">Julio</th>\n",
              "      <th>Nova</th>\n",
              "      <td>85.366667</td>\n",
              "    </tr>\n",
              "    <tr>\n",
              "      <th>Sulzer</th>\n",
              "      <td>83.693333</td>\n",
              "    </tr>\n",
              "    <tr>\n",
              "      <th rowspan=\"2\" valign=\"top\">Luis</th>\n",
              "      <th>Nova</th>\n",
              "      <td>88.613333</td>\n",
              "    </tr>\n",
              "    <tr>\n",
              "      <th>Sulzer</th>\n",
              "      <td>86.360000</td>\n",
              "    </tr>\n",
              "  </tbody>\n",
              "</table>\n",
              "</div>\n",
              "      <button class=\"colab-df-convert\" onclick=\"convertToInteractive('df-2e4b5879-0b74-419e-9912-e819b0ac5013')\"\n",
              "              title=\"Convert this dataframe to an interactive table.\"\n",
              "              style=\"display:none;\">\n",
              "        \n",
              "  <svg xmlns=\"http://www.w3.org/2000/svg\" height=\"24px\"viewBox=\"0 0 24 24\"\n",
              "       width=\"24px\">\n",
              "    <path d=\"M0 0h24v24H0V0z\" fill=\"none\"/>\n",
              "    <path d=\"M18.56 5.44l.94 2.06.94-2.06 2.06-.94-2.06-.94-.94-2.06-.94 2.06-2.06.94zm-11 1L8.5 8.5l.94-2.06 2.06-.94-2.06-.94L8.5 2.5l-.94 2.06-2.06.94zm10 10l.94 2.06.94-2.06 2.06-.94-2.06-.94-.94-2.06-.94 2.06-2.06.94z\"/><path d=\"M17.41 7.96l-1.37-1.37c-.4-.4-.92-.59-1.43-.59-.52 0-1.04.2-1.43.59L10.3 9.45l-7.72 7.72c-.78.78-.78 2.05 0 2.83L4 21.41c.39.39.9.59 1.41.59.51 0 1.02-.2 1.41-.59l7.78-7.78 2.81-2.81c.8-.78.8-2.07 0-2.86zM5.41 20L4 18.59l7.72-7.72 1.47 1.35L5.41 20z\"/>\n",
              "  </svg>\n",
              "      </button>\n",
              "      \n",
              "  <style>\n",
              "    .colab-df-container {\n",
              "      display:flex;\n",
              "      flex-wrap:wrap;\n",
              "      gap: 12px;\n",
              "    }\n",
              "\n",
              "    .colab-df-convert {\n",
              "      background-color: #E8F0FE;\n",
              "      border: none;\n",
              "      border-radius: 50%;\n",
              "      cursor: pointer;\n",
              "      display: none;\n",
              "      fill: #1967D2;\n",
              "      height: 32px;\n",
              "      padding: 0 0 0 0;\n",
              "      width: 32px;\n",
              "    }\n",
              "\n",
              "    .colab-df-convert:hover {\n",
              "      background-color: #E2EBFA;\n",
              "      box-shadow: 0px 1px 2px rgba(60, 64, 67, 0.3), 0px 1px 3px 1px rgba(60, 64, 67, 0.15);\n",
              "      fill: #174EA6;\n",
              "    }\n",
              "\n",
              "    [theme=dark] .colab-df-convert {\n",
              "      background-color: #3B4455;\n",
              "      fill: #D2E3FC;\n",
              "    }\n",
              "\n",
              "    [theme=dark] .colab-df-convert:hover {\n",
              "      background-color: #434B5C;\n",
              "      box-shadow: 0px 1px 3px 1px rgba(0, 0, 0, 0.15);\n",
              "      filter: drop-shadow(0px 1px 2px rgba(0, 0, 0, 0.3));\n",
              "      fill: #FFFFFF;\n",
              "    }\n",
              "  </style>\n",
              "\n",
              "      <script>\n",
              "        const buttonEl =\n",
              "          document.querySelector('#df-2e4b5879-0b74-419e-9912-e819b0ac5013 button.colab-df-convert');\n",
              "        buttonEl.style.display =\n",
              "          google.colab.kernel.accessAllowed ? 'block' : 'none';\n",
              "\n",
              "        async function convertToInteractive(key) {\n",
              "          const element = document.querySelector('#df-2e4b5879-0b74-419e-9912-e819b0ac5013');\n",
              "          const dataTable =\n",
              "            await google.colab.kernel.invokeFunction('convertToInteractive',\n",
              "                                                     [key], {});\n",
              "          if (!dataTable) return;\n",
              "\n",
              "          const docLinkHtml = 'Like what you see? Visit the ' +\n",
              "            '<a target=\"_blank\" href=https://colab.research.google.com/notebooks/data_table.ipynb>data table notebook</a>'\n",
              "            + ' to learn more about interactive tables.';\n",
              "          element.innerHTML = '';\n",
              "          dataTable['output_type'] = 'display_data';\n",
              "          await google.colab.output.renderOutput(dataTable, element);\n",
              "          const docLink = document.createElement('div');\n",
              "          docLink.innerHTML = docLinkHtml;\n",
              "          element.appendChild(docLink);\n",
              "        }\n",
              "      </script>\n",
              "    </div>\n",
              "  </div>\n",
              "  "
            ]
          },
          "metadata": {},
          "execution_count": 735
        }
      ]
    },
    {
      "cell_type": "code",
      "source": [
        "desvio_padrao = df.groupby(['Operador', 'Máquina'])['Largura'].std()\n",
        "desvio_padrao = pd.DataFrame(desvio_padrao)\n",
        "desvio_padrao"
      ],
      "metadata": {
        "colab": {
          "base_uri": "https://localhost:8080/",
          "height": 269
        },
        "id": "N58EqIesXprA",
        "outputId": "b05d3ae3-e1fe-426a-d6a6-f40109911ed8"
      },
      "execution_count": 736,
      "outputs": [
        {
          "output_type": "execute_result",
          "data": {
            "text/plain": [
              "                   Largura\n",
              "Operador Máquina          \n",
              "Gerardo  Nova     0.996040\n",
              "         Sulzer   1.165496\n",
              "Julio    Nova     0.446681\n",
              "         Sulzer   0.605294\n",
              "Luis     Nova     0.429063\n",
              "         Sulzer   0.383219"
            ],
            "text/html": [
              "\n",
              "  <div id=\"df-2d3e360d-a05a-48eb-9724-5355bb948976\">\n",
              "    <div class=\"colab-df-container\">\n",
              "      <div>\n",
              "<style scoped>\n",
              "    .dataframe tbody tr th:only-of-type {\n",
              "        vertical-align: middle;\n",
              "    }\n",
              "\n",
              "    .dataframe tbody tr th {\n",
              "        vertical-align: top;\n",
              "    }\n",
              "\n",
              "    .dataframe thead th {\n",
              "        text-align: right;\n",
              "    }\n",
              "</style>\n",
              "<table border=\"1\" class=\"dataframe\">\n",
              "  <thead>\n",
              "    <tr style=\"text-align: right;\">\n",
              "      <th></th>\n",
              "      <th></th>\n",
              "      <th>Largura</th>\n",
              "    </tr>\n",
              "    <tr>\n",
              "      <th>Operador</th>\n",
              "      <th>Máquina</th>\n",
              "      <th></th>\n",
              "    </tr>\n",
              "  </thead>\n",
              "  <tbody>\n",
              "    <tr>\n",
              "      <th rowspan=\"2\" valign=\"top\">Gerardo</th>\n",
              "      <th>Nova</th>\n",
              "      <td>0.996040</td>\n",
              "    </tr>\n",
              "    <tr>\n",
              "      <th>Sulzer</th>\n",
              "      <td>1.165496</td>\n",
              "    </tr>\n",
              "    <tr>\n",
              "      <th rowspan=\"2\" valign=\"top\">Julio</th>\n",
              "      <th>Nova</th>\n",
              "      <td>0.446681</td>\n",
              "    </tr>\n",
              "    <tr>\n",
              "      <th>Sulzer</th>\n",
              "      <td>0.605294</td>\n",
              "    </tr>\n",
              "    <tr>\n",
              "      <th rowspan=\"2\" valign=\"top\">Luis</th>\n",
              "      <th>Nova</th>\n",
              "      <td>0.429063</td>\n",
              "    </tr>\n",
              "    <tr>\n",
              "      <th>Sulzer</th>\n",
              "      <td>0.383219</td>\n",
              "    </tr>\n",
              "  </tbody>\n",
              "</table>\n",
              "</div>\n",
              "      <button class=\"colab-df-convert\" onclick=\"convertToInteractive('df-2d3e360d-a05a-48eb-9724-5355bb948976')\"\n",
              "              title=\"Convert this dataframe to an interactive table.\"\n",
              "              style=\"display:none;\">\n",
              "        \n",
              "  <svg xmlns=\"http://www.w3.org/2000/svg\" height=\"24px\"viewBox=\"0 0 24 24\"\n",
              "       width=\"24px\">\n",
              "    <path d=\"M0 0h24v24H0V0z\" fill=\"none\"/>\n",
              "    <path d=\"M18.56 5.44l.94 2.06.94-2.06 2.06-.94-2.06-.94-.94-2.06-.94 2.06-2.06.94zm-11 1L8.5 8.5l.94-2.06 2.06-.94-2.06-.94L8.5 2.5l-.94 2.06-2.06.94zm10 10l.94 2.06.94-2.06 2.06-.94-2.06-.94-.94-2.06-.94 2.06-2.06.94z\"/><path d=\"M17.41 7.96l-1.37-1.37c-.4-.4-.92-.59-1.43-.59-.52 0-1.04.2-1.43.59L10.3 9.45l-7.72 7.72c-.78.78-.78 2.05 0 2.83L4 21.41c.39.39.9.59 1.41.59.51 0 1.02-.2 1.41-.59l7.78-7.78 2.81-2.81c.8-.78.8-2.07 0-2.86zM5.41 20L4 18.59l7.72-7.72 1.47 1.35L5.41 20z\"/>\n",
              "  </svg>\n",
              "      </button>\n",
              "      \n",
              "  <style>\n",
              "    .colab-df-container {\n",
              "      display:flex;\n",
              "      flex-wrap:wrap;\n",
              "      gap: 12px;\n",
              "    }\n",
              "\n",
              "    .colab-df-convert {\n",
              "      background-color: #E8F0FE;\n",
              "      border: none;\n",
              "      border-radius: 50%;\n",
              "      cursor: pointer;\n",
              "      display: none;\n",
              "      fill: #1967D2;\n",
              "      height: 32px;\n",
              "      padding: 0 0 0 0;\n",
              "      width: 32px;\n",
              "    }\n",
              "\n",
              "    .colab-df-convert:hover {\n",
              "      background-color: #E2EBFA;\n",
              "      box-shadow: 0px 1px 2px rgba(60, 64, 67, 0.3), 0px 1px 3px 1px rgba(60, 64, 67, 0.15);\n",
              "      fill: #174EA6;\n",
              "    }\n",
              "\n",
              "    [theme=dark] .colab-df-convert {\n",
              "      background-color: #3B4455;\n",
              "      fill: #D2E3FC;\n",
              "    }\n",
              "\n",
              "    [theme=dark] .colab-df-convert:hover {\n",
              "      background-color: #434B5C;\n",
              "      box-shadow: 0px 1px 3px 1px rgba(0, 0, 0, 0.15);\n",
              "      filter: drop-shadow(0px 1px 2px rgba(0, 0, 0, 0.3));\n",
              "      fill: #FFFFFF;\n",
              "    }\n",
              "  </style>\n",
              "\n",
              "      <script>\n",
              "        const buttonEl =\n",
              "          document.querySelector('#df-2d3e360d-a05a-48eb-9724-5355bb948976 button.colab-df-convert');\n",
              "        buttonEl.style.display =\n",
              "          google.colab.kernel.accessAllowed ? 'block' : 'none';\n",
              "\n",
              "        async function convertToInteractive(key) {\n",
              "          const element = document.querySelector('#df-2d3e360d-a05a-48eb-9724-5355bb948976');\n",
              "          const dataTable =\n",
              "            await google.colab.kernel.invokeFunction('convertToInteractive',\n",
              "                                                     [key], {});\n",
              "          if (!dataTable) return;\n",
              "\n",
              "          const docLinkHtml = 'Like what you see? Visit the ' +\n",
              "            '<a target=\"_blank\" href=https://colab.research.google.com/notebooks/data_table.ipynb>data table notebook</a>'\n",
              "            + ' to learn more about interactive tables.';\n",
              "          element.innerHTML = '';\n",
              "          dataTable['output_type'] = 'display_data';\n",
              "          await google.colab.output.renderOutput(dataTable, element);\n",
              "          const docLink = document.createElement('div');\n",
              "          docLink.innerHTML = docLinkHtml;\n",
              "          element.appendChild(docLink);\n",
              "        }\n",
              "      </script>\n",
              "    </div>\n",
              "  </div>\n",
              "  "
            ]
          },
          "metadata": {},
          "execution_count": 736
        }
      ]
    },
    {
      "cell_type": "code",
      "source": [
        "varianca = df.groupby(['Operador', 'Máquina'])['Largura'].var()\n",
        "varianca = pd.DataFrame(varianca)\n",
        "varianca"
      ],
      "metadata": {
        "colab": {
          "base_uri": "https://localhost:8080/",
          "height": 269
        },
        "id": "Mcyuw7yXXuWF",
        "outputId": "1a4a7342-5621-4407-8ce1-c91b914805f0"
      },
      "execution_count": 737,
      "outputs": [
        {
          "output_type": "execute_result",
          "data": {
            "text/plain": [
              "                   Largura\n",
              "Operador Máquina          \n",
              "Gerardo  Nova     0.992095\n",
              "         Sulzer   1.358381\n",
              "Julio    Nova     0.199524\n",
              "         Sulzer   0.366381\n",
              "Luis     Nova     0.184095\n",
              "         Sulzer   0.146857"
            ],
            "text/html": [
              "\n",
              "  <div id=\"df-a3d24fd2-4e9d-4cd4-b73f-3ca5b787fd71\">\n",
              "    <div class=\"colab-df-container\">\n",
              "      <div>\n",
              "<style scoped>\n",
              "    .dataframe tbody tr th:only-of-type {\n",
              "        vertical-align: middle;\n",
              "    }\n",
              "\n",
              "    .dataframe tbody tr th {\n",
              "        vertical-align: top;\n",
              "    }\n",
              "\n",
              "    .dataframe thead th {\n",
              "        text-align: right;\n",
              "    }\n",
              "</style>\n",
              "<table border=\"1\" class=\"dataframe\">\n",
              "  <thead>\n",
              "    <tr style=\"text-align: right;\">\n",
              "      <th></th>\n",
              "      <th></th>\n",
              "      <th>Largura</th>\n",
              "    </tr>\n",
              "    <tr>\n",
              "      <th>Operador</th>\n",
              "      <th>Máquina</th>\n",
              "      <th></th>\n",
              "    </tr>\n",
              "  </thead>\n",
              "  <tbody>\n",
              "    <tr>\n",
              "      <th rowspan=\"2\" valign=\"top\">Gerardo</th>\n",
              "      <th>Nova</th>\n",
              "      <td>0.992095</td>\n",
              "    </tr>\n",
              "    <tr>\n",
              "      <th>Sulzer</th>\n",
              "      <td>1.358381</td>\n",
              "    </tr>\n",
              "    <tr>\n",
              "      <th rowspan=\"2\" valign=\"top\">Julio</th>\n",
              "      <th>Nova</th>\n",
              "      <td>0.199524</td>\n",
              "    </tr>\n",
              "    <tr>\n",
              "      <th>Sulzer</th>\n",
              "      <td>0.366381</td>\n",
              "    </tr>\n",
              "    <tr>\n",
              "      <th rowspan=\"2\" valign=\"top\">Luis</th>\n",
              "      <th>Nova</th>\n",
              "      <td>0.184095</td>\n",
              "    </tr>\n",
              "    <tr>\n",
              "      <th>Sulzer</th>\n",
              "      <td>0.146857</td>\n",
              "    </tr>\n",
              "  </tbody>\n",
              "</table>\n",
              "</div>\n",
              "      <button class=\"colab-df-convert\" onclick=\"convertToInteractive('df-a3d24fd2-4e9d-4cd4-b73f-3ca5b787fd71')\"\n",
              "              title=\"Convert this dataframe to an interactive table.\"\n",
              "              style=\"display:none;\">\n",
              "        \n",
              "  <svg xmlns=\"http://www.w3.org/2000/svg\" height=\"24px\"viewBox=\"0 0 24 24\"\n",
              "       width=\"24px\">\n",
              "    <path d=\"M0 0h24v24H0V0z\" fill=\"none\"/>\n",
              "    <path d=\"M18.56 5.44l.94 2.06.94-2.06 2.06-.94-2.06-.94-.94-2.06-.94 2.06-2.06.94zm-11 1L8.5 8.5l.94-2.06 2.06-.94-2.06-.94L8.5 2.5l-.94 2.06-2.06.94zm10 10l.94 2.06.94-2.06 2.06-.94-2.06-.94-.94-2.06-.94 2.06-2.06.94z\"/><path d=\"M17.41 7.96l-1.37-1.37c-.4-.4-.92-.59-1.43-.59-.52 0-1.04.2-1.43.59L10.3 9.45l-7.72 7.72c-.78.78-.78 2.05 0 2.83L4 21.41c.39.39.9.59 1.41.59.51 0 1.02-.2 1.41-.59l7.78-7.78 2.81-2.81c.8-.78.8-2.07 0-2.86zM5.41 20L4 18.59l7.72-7.72 1.47 1.35L5.41 20z\"/>\n",
              "  </svg>\n",
              "      </button>\n",
              "      \n",
              "  <style>\n",
              "    .colab-df-container {\n",
              "      display:flex;\n",
              "      flex-wrap:wrap;\n",
              "      gap: 12px;\n",
              "    }\n",
              "\n",
              "    .colab-df-convert {\n",
              "      background-color: #E8F0FE;\n",
              "      border: none;\n",
              "      border-radius: 50%;\n",
              "      cursor: pointer;\n",
              "      display: none;\n",
              "      fill: #1967D2;\n",
              "      height: 32px;\n",
              "      padding: 0 0 0 0;\n",
              "      width: 32px;\n",
              "    }\n",
              "\n",
              "    .colab-df-convert:hover {\n",
              "      background-color: #E2EBFA;\n",
              "      box-shadow: 0px 1px 2px rgba(60, 64, 67, 0.3), 0px 1px 3px 1px rgba(60, 64, 67, 0.15);\n",
              "      fill: #174EA6;\n",
              "    }\n",
              "\n",
              "    [theme=dark] .colab-df-convert {\n",
              "      background-color: #3B4455;\n",
              "      fill: #D2E3FC;\n",
              "    }\n",
              "\n",
              "    [theme=dark] .colab-df-convert:hover {\n",
              "      background-color: #434B5C;\n",
              "      box-shadow: 0px 1px 3px 1px rgba(0, 0, 0, 0.15);\n",
              "      filter: drop-shadow(0px 1px 2px rgba(0, 0, 0, 0.3));\n",
              "      fill: #FFFFFF;\n",
              "    }\n",
              "  </style>\n",
              "\n",
              "      <script>\n",
              "        const buttonEl =\n",
              "          document.querySelector('#df-a3d24fd2-4e9d-4cd4-b73f-3ca5b787fd71 button.colab-df-convert');\n",
              "        buttonEl.style.display =\n",
              "          google.colab.kernel.accessAllowed ? 'block' : 'none';\n",
              "\n",
              "        async function convertToInteractive(key) {\n",
              "          const element = document.querySelector('#df-a3d24fd2-4e9d-4cd4-b73f-3ca5b787fd71');\n",
              "          const dataTable =\n",
              "            await google.colab.kernel.invokeFunction('convertToInteractive',\n",
              "                                                     [key], {});\n",
              "          if (!dataTable) return;\n",
              "\n",
              "          const docLinkHtml = 'Like what you see? Visit the ' +\n",
              "            '<a target=\"_blank\" href=https://colab.research.google.com/notebooks/data_table.ipynb>data table notebook</a>'\n",
              "            + ' to learn more about interactive tables.';\n",
              "          element.innerHTML = '';\n",
              "          dataTable['output_type'] = 'display_data';\n",
              "          await google.colab.output.renderOutput(dataTable, element);\n",
              "          const docLink = document.createElement('div');\n",
              "          docLink.innerHTML = docLinkHtml;\n",
              "          element.appendChild(docLink);\n",
              "        }\n",
              "      </script>\n",
              "    </div>\n",
              "  </div>\n",
              "  "
            ]
          },
          "metadata": {},
          "execution_count": 737
        }
      ]
    },
    {
      "cell_type": "code",
      "source": [
        "table = media.merge(desvio_padrao, how = 'left', on = ['Operador', 'Máquina'])\n",
        "table"
      ],
      "metadata": {
        "colab": {
          "base_uri": "https://localhost:8080/",
          "height": 269
        },
        "id": "bzNBTLuIaT8e",
        "outputId": "a23b1faf-10d2-425e-9f66-84c92a1bdf75"
      },
      "execution_count": 738,
      "outputs": [
        {
          "output_type": "execute_result",
          "data": {
            "text/plain": [
              "                  Largura_x  Largura_y\n",
              "Operador Máquina                      \n",
              "Gerardo  Nova     86.773333   0.996040\n",
              "         Sulzer   85.613333   1.165496\n",
              "Julio    Nova     85.366667   0.446681\n",
              "         Sulzer   83.693333   0.605294\n",
              "Luis     Nova     88.613333   0.429063\n",
              "         Sulzer   86.360000   0.383219"
            ],
            "text/html": [
              "\n",
              "  <div id=\"df-40b56e12-105a-4ae0-9540-5e69a9ababb8\">\n",
              "    <div class=\"colab-df-container\">\n",
              "      <div>\n",
              "<style scoped>\n",
              "    .dataframe tbody tr th:only-of-type {\n",
              "        vertical-align: middle;\n",
              "    }\n",
              "\n",
              "    .dataframe tbody tr th {\n",
              "        vertical-align: top;\n",
              "    }\n",
              "\n",
              "    .dataframe thead th {\n",
              "        text-align: right;\n",
              "    }\n",
              "</style>\n",
              "<table border=\"1\" class=\"dataframe\">\n",
              "  <thead>\n",
              "    <tr style=\"text-align: right;\">\n",
              "      <th></th>\n",
              "      <th></th>\n",
              "      <th>Largura_x</th>\n",
              "      <th>Largura_y</th>\n",
              "    </tr>\n",
              "    <tr>\n",
              "      <th>Operador</th>\n",
              "      <th>Máquina</th>\n",
              "      <th></th>\n",
              "      <th></th>\n",
              "    </tr>\n",
              "  </thead>\n",
              "  <tbody>\n",
              "    <tr>\n",
              "      <th rowspan=\"2\" valign=\"top\">Gerardo</th>\n",
              "      <th>Nova</th>\n",
              "      <td>86.773333</td>\n",
              "      <td>0.996040</td>\n",
              "    </tr>\n",
              "    <tr>\n",
              "      <th>Sulzer</th>\n",
              "      <td>85.613333</td>\n",
              "      <td>1.165496</td>\n",
              "    </tr>\n",
              "    <tr>\n",
              "      <th rowspan=\"2\" valign=\"top\">Julio</th>\n",
              "      <th>Nova</th>\n",
              "      <td>85.366667</td>\n",
              "      <td>0.446681</td>\n",
              "    </tr>\n",
              "    <tr>\n",
              "      <th>Sulzer</th>\n",
              "      <td>83.693333</td>\n",
              "      <td>0.605294</td>\n",
              "    </tr>\n",
              "    <tr>\n",
              "      <th rowspan=\"2\" valign=\"top\">Luis</th>\n",
              "      <th>Nova</th>\n",
              "      <td>88.613333</td>\n",
              "      <td>0.429063</td>\n",
              "    </tr>\n",
              "    <tr>\n",
              "      <th>Sulzer</th>\n",
              "      <td>86.360000</td>\n",
              "      <td>0.383219</td>\n",
              "    </tr>\n",
              "  </tbody>\n",
              "</table>\n",
              "</div>\n",
              "      <button class=\"colab-df-convert\" onclick=\"convertToInteractive('df-40b56e12-105a-4ae0-9540-5e69a9ababb8')\"\n",
              "              title=\"Convert this dataframe to an interactive table.\"\n",
              "              style=\"display:none;\">\n",
              "        \n",
              "  <svg xmlns=\"http://www.w3.org/2000/svg\" height=\"24px\"viewBox=\"0 0 24 24\"\n",
              "       width=\"24px\">\n",
              "    <path d=\"M0 0h24v24H0V0z\" fill=\"none\"/>\n",
              "    <path d=\"M18.56 5.44l.94 2.06.94-2.06 2.06-.94-2.06-.94-.94-2.06-.94 2.06-2.06.94zm-11 1L8.5 8.5l.94-2.06 2.06-.94-2.06-.94L8.5 2.5l-.94 2.06-2.06.94zm10 10l.94 2.06.94-2.06 2.06-.94-2.06-.94-.94-2.06-.94 2.06-2.06.94z\"/><path d=\"M17.41 7.96l-1.37-1.37c-.4-.4-.92-.59-1.43-.59-.52 0-1.04.2-1.43.59L10.3 9.45l-7.72 7.72c-.78.78-.78 2.05 0 2.83L4 21.41c.39.39.9.59 1.41.59.51 0 1.02-.2 1.41-.59l7.78-7.78 2.81-2.81c.8-.78.8-2.07 0-2.86zM5.41 20L4 18.59l7.72-7.72 1.47 1.35L5.41 20z\"/>\n",
              "  </svg>\n",
              "      </button>\n",
              "      \n",
              "  <style>\n",
              "    .colab-df-container {\n",
              "      display:flex;\n",
              "      flex-wrap:wrap;\n",
              "      gap: 12px;\n",
              "    }\n",
              "\n",
              "    .colab-df-convert {\n",
              "      background-color: #E8F0FE;\n",
              "      border: none;\n",
              "      border-radius: 50%;\n",
              "      cursor: pointer;\n",
              "      display: none;\n",
              "      fill: #1967D2;\n",
              "      height: 32px;\n",
              "      padding: 0 0 0 0;\n",
              "      width: 32px;\n",
              "    }\n",
              "\n",
              "    .colab-df-convert:hover {\n",
              "      background-color: #E2EBFA;\n",
              "      box-shadow: 0px 1px 2px rgba(60, 64, 67, 0.3), 0px 1px 3px 1px rgba(60, 64, 67, 0.15);\n",
              "      fill: #174EA6;\n",
              "    }\n",
              "\n",
              "    [theme=dark] .colab-df-convert {\n",
              "      background-color: #3B4455;\n",
              "      fill: #D2E3FC;\n",
              "    }\n",
              "\n",
              "    [theme=dark] .colab-df-convert:hover {\n",
              "      background-color: #434B5C;\n",
              "      box-shadow: 0px 1px 3px 1px rgba(0, 0, 0, 0.15);\n",
              "      filter: drop-shadow(0px 1px 2px rgba(0, 0, 0, 0.3));\n",
              "      fill: #FFFFFF;\n",
              "    }\n",
              "  </style>\n",
              "\n",
              "      <script>\n",
              "        const buttonEl =\n",
              "          document.querySelector('#df-40b56e12-105a-4ae0-9540-5e69a9ababb8 button.colab-df-convert');\n",
              "        buttonEl.style.display =\n",
              "          google.colab.kernel.accessAllowed ? 'block' : 'none';\n",
              "\n",
              "        async function convertToInteractive(key) {\n",
              "          const element = document.querySelector('#df-40b56e12-105a-4ae0-9540-5e69a9ababb8');\n",
              "          const dataTable =\n",
              "            await google.colab.kernel.invokeFunction('convertToInteractive',\n",
              "                                                     [key], {});\n",
              "          if (!dataTable) return;\n",
              "\n",
              "          const docLinkHtml = 'Like what you see? Visit the ' +\n",
              "            '<a target=\"_blank\" href=https://colab.research.google.com/notebooks/data_table.ipynb>data table notebook</a>'\n",
              "            + ' to learn more about interactive tables.';\n",
              "          element.innerHTML = '';\n",
              "          dataTable['output_type'] = 'display_data';\n",
              "          await google.colab.output.renderOutput(dataTable, element);\n",
              "          const docLink = document.createElement('div');\n",
              "          docLink.innerHTML = docLinkHtml;\n",
              "          element.appendChild(docLink);\n",
              "        }\n",
              "      </script>\n",
              "    </div>\n",
              "  </div>\n",
              "  "
            ]
          },
          "metadata": {},
          "execution_count": 738
        }
      ]
    },
    {
      "cell_type": "code",
      "source": [
        "table = table.merge(varianca, how = 'left', on = ['Operador', 'Máquina'])\n",
        "table"
      ],
      "metadata": {
        "colab": {
          "base_uri": "https://localhost:8080/",
          "height": 269
        },
        "id": "_Kb9TEoAYW0R",
        "outputId": "36d8cf91-4cf9-4bd1-da5c-ff5888bd8c03"
      },
      "execution_count": 739,
      "outputs": [
        {
          "output_type": "execute_result",
          "data": {
            "text/plain": [
              "                  Largura_x  Largura_y   Largura\n",
              "Operador Máquina                                \n",
              "Gerardo  Nova     86.773333   0.996040  0.992095\n",
              "         Sulzer   85.613333   1.165496  1.358381\n",
              "Julio    Nova     85.366667   0.446681  0.199524\n",
              "         Sulzer   83.693333   0.605294  0.366381\n",
              "Luis     Nova     88.613333   0.429063  0.184095\n",
              "         Sulzer   86.360000   0.383219  0.146857"
            ],
            "text/html": [
              "\n",
              "  <div id=\"df-65ce2a37-aadc-4658-bdb1-2482411801c9\">\n",
              "    <div class=\"colab-df-container\">\n",
              "      <div>\n",
              "<style scoped>\n",
              "    .dataframe tbody tr th:only-of-type {\n",
              "        vertical-align: middle;\n",
              "    }\n",
              "\n",
              "    .dataframe tbody tr th {\n",
              "        vertical-align: top;\n",
              "    }\n",
              "\n",
              "    .dataframe thead th {\n",
              "        text-align: right;\n",
              "    }\n",
              "</style>\n",
              "<table border=\"1\" class=\"dataframe\">\n",
              "  <thead>\n",
              "    <tr style=\"text-align: right;\">\n",
              "      <th></th>\n",
              "      <th></th>\n",
              "      <th>Largura_x</th>\n",
              "      <th>Largura_y</th>\n",
              "      <th>Largura</th>\n",
              "    </tr>\n",
              "    <tr>\n",
              "      <th>Operador</th>\n",
              "      <th>Máquina</th>\n",
              "      <th></th>\n",
              "      <th></th>\n",
              "      <th></th>\n",
              "    </tr>\n",
              "  </thead>\n",
              "  <tbody>\n",
              "    <tr>\n",
              "      <th rowspan=\"2\" valign=\"top\">Gerardo</th>\n",
              "      <th>Nova</th>\n",
              "      <td>86.773333</td>\n",
              "      <td>0.996040</td>\n",
              "      <td>0.992095</td>\n",
              "    </tr>\n",
              "    <tr>\n",
              "      <th>Sulzer</th>\n",
              "      <td>85.613333</td>\n",
              "      <td>1.165496</td>\n",
              "      <td>1.358381</td>\n",
              "    </tr>\n",
              "    <tr>\n",
              "      <th rowspan=\"2\" valign=\"top\">Julio</th>\n",
              "      <th>Nova</th>\n",
              "      <td>85.366667</td>\n",
              "      <td>0.446681</td>\n",
              "      <td>0.199524</td>\n",
              "    </tr>\n",
              "    <tr>\n",
              "      <th>Sulzer</th>\n",
              "      <td>83.693333</td>\n",
              "      <td>0.605294</td>\n",
              "      <td>0.366381</td>\n",
              "    </tr>\n",
              "    <tr>\n",
              "      <th rowspan=\"2\" valign=\"top\">Luis</th>\n",
              "      <th>Nova</th>\n",
              "      <td>88.613333</td>\n",
              "      <td>0.429063</td>\n",
              "      <td>0.184095</td>\n",
              "    </tr>\n",
              "    <tr>\n",
              "      <th>Sulzer</th>\n",
              "      <td>86.360000</td>\n",
              "      <td>0.383219</td>\n",
              "      <td>0.146857</td>\n",
              "    </tr>\n",
              "  </tbody>\n",
              "</table>\n",
              "</div>\n",
              "      <button class=\"colab-df-convert\" onclick=\"convertToInteractive('df-65ce2a37-aadc-4658-bdb1-2482411801c9')\"\n",
              "              title=\"Convert this dataframe to an interactive table.\"\n",
              "              style=\"display:none;\">\n",
              "        \n",
              "  <svg xmlns=\"http://www.w3.org/2000/svg\" height=\"24px\"viewBox=\"0 0 24 24\"\n",
              "       width=\"24px\">\n",
              "    <path d=\"M0 0h24v24H0V0z\" fill=\"none\"/>\n",
              "    <path d=\"M18.56 5.44l.94 2.06.94-2.06 2.06-.94-2.06-.94-.94-2.06-.94 2.06-2.06.94zm-11 1L8.5 8.5l.94-2.06 2.06-.94-2.06-.94L8.5 2.5l-.94 2.06-2.06.94zm10 10l.94 2.06.94-2.06 2.06-.94-2.06-.94-.94-2.06-.94 2.06-2.06.94z\"/><path d=\"M17.41 7.96l-1.37-1.37c-.4-.4-.92-.59-1.43-.59-.52 0-1.04.2-1.43.59L10.3 9.45l-7.72 7.72c-.78.78-.78 2.05 0 2.83L4 21.41c.39.39.9.59 1.41.59.51 0 1.02-.2 1.41-.59l7.78-7.78 2.81-2.81c.8-.78.8-2.07 0-2.86zM5.41 20L4 18.59l7.72-7.72 1.47 1.35L5.41 20z\"/>\n",
              "  </svg>\n",
              "      </button>\n",
              "      \n",
              "  <style>\n",
              "    .colab-df-container {\n",
              "      display:flex;\n",
              "      flex-wrap:wrap;\n",
              "      gap: 12px;\n",
              "    }\n",
              "\n",
              "    .colab-df-convert {\n",
              "      background-color: #E8F0FE;\n",
              "      border: none;\n",
              "      border-radius: 50%;\n",
              "      cursor: pointer;\n",
              "      display: none;\n",
              "      fill: #1967D2;\n",
              "      height: 32px;\n",
              "      padding: 0 0 0 0;\n",
              "      width: 32px;\n",
              "    }\n",
              "\n",
              "    .colab-df-convert:hover {\n",
              "      background-color: #E2EBFA;\n",
              "      box-shadow: 0px 1px 2px rgba(60, 64, 67, 0.3), 0px 1px 3px 1px rgba(60, 64, 67, 0.15);\n",
              "      fill: #174EA6;\n",
              "    }\n",
              "\n",
              "    [theme=dark] .colab-df-convert {\n",
              "      background-color: #3B4455;\n",
              "      fill: #D2E3FC;\n",
              "    }\n",
              "\n",
              "    [theme=dark] .colab-df-convert:hover {\n",
              "      background-color: #434B5C;\n",
              "      box-shadow: 0px 1px 3px 1px rgba(0, 0, 0, 0.15);\n",
              "      filter: drop-shadow(0px 1px 2px rgba(0, 0, 0, 0.3));\n",
              "      fill: #FFFFFF;\n",
              "    }\n",
              "  </style>\n",
              "\n",
              "      <script>\n",
              "        const buttonEl =\n",
              "          document.querySelector('#df-65ce2a37-aadc-4658-bdb1-2482411801c9 button.colab-df-convert');\n",
              "        buttonEl.style.display =\n",
              "          google.colab.kernel.accessAllowed ? 'block' : 'none';\n",
              "\n",
              "        async function convertToInteractive(key) {\n",
              "          const element = document.querySelector('#df-65ce2a37-aadc-4658-bdb1-2482411801c9');\n",
              "          const dataTable =\n",
              "            await google.colab.kernel.invokeFunction('convertToInteractive',\n",
              "                                                     [key], {});\n",
              "          if (!dataTable) return;\n",
              "\n",
              "          const docLinkHtml = 'Like what you see? Visit the ' +\n",
              "            '<a target=\"_blank\" href=https://colab.research.google.com/notebooks/data_table.ipynb>data table notebook</a>'\n",
              "            + ' to learn more about interactive tables.';\n",
              "          element.innerHTML = '';\n",
              "          dataTable['output_type'] = 'display_data';\n",
              "          await google.colab.output.renderOutput(dataTable, element);\n",
              "          const docLink = document.createElement('div');\n",
              "          docLink.innerHTML = docLinkHtml;\n",
              "          element.appendChild(docLink);\n",
              "        }\n",
              "      </script>\n",
              "    </div>\n",
              "  </div>\n",
              "  "
            ]
          },
          "metadata": {},
          "execution_count": 739
        }
      ]
    },
    {
      "cell_type": "code",
      "source": [
        "table = table.rename(columns = {'Largura_x' : 'Média', 'Largura_y' : 'desvio_padrão', 'Largura' : 'Varianca'})\n",
        "table"
      ],
      "metadata": {
        "colab": {
          "base_uri": "https://localhost:8080/",
          "height": 269
        },
        "id": "CErm6tLUbmm3",
        "outputId": "5b644a3f-a5c5-41e4-8a91-39344934dce9"
      },
      "execution_count": 742,
      "outputs": [
        {
          "output_type": "execute_result",
          "data": {
            "text/plain": [
              "                      Média  desvio_padrão  Varianca\n",
              "Operador Máquina                                    \n",
              "Gerardo  Nova     86.773333       0.996040  0.992095\n",
              "         Sulzer   85.613333       1.165496  1.358381\n",
              "Julio    Nova     85.366667       0.446681  0.199524\n",
              "         Sulzer   83.693333       0.605294  0.366381\n",
              "Luis     Nova     88.613333       0.429063  0.184095\n",
              "         Sulzer   86.360000       0.383219  0.146857"
            ],
            "text/html": [
              "\n",
              "  <div id=\"df-44ec37d1-811b-46cd-8281-b153e0215b72\">\n",
              "    <div class=\"colab-df-container\">\n",
              "      <div>\n",
              "<style scoped>\n",
              "    .dataframe tbody tr th:only-of-type {\n",
              "        vertical-align: middle;\n",
              "    }\n",
              "\n",
              "    .dataframe tbody tr th {\n",
              "        vertical-align: top;\n",
              "    }\n",
              "\n",
              "    .dataframe thead th {\n",
              "        text-align: right;\n",
              "    }\n",
              "</style>\n",
              "<table border=\"1\" class=\"dataframe\">\n",
              "  <thead>\n",
              "    <tr style=\"text-align: right;\">\n",
              "      <th></th>\n",
              "      <th></th>\n",
              "      <th>Média</th>\n",
              "      <th>desvio_padrão</th>\n",
              "      <th>Varianca</th>\n",
              "    </tr>\n",
              "    <tr>\n",
              "      <th>Operador</th>\n",
              "      <th>Máquina</th>\n",
              "      <th></th>\n",
              "      <th></th>\n",
              "      <th></th>\n",
              "    </tr>\n",
              "  </thead>\n",
              "  <tbody>\n",
              "    <tr>\n",
              "      <th rowspan=\"2\" valign=\"top\">Gerardo</th>\n",
              "      <th>Nova</th>\n",
              "      <td>86.773333</td>\n",
              "      <td>0.996040</td>\n",
              "      <td>0.992095</td>\n",
              "    </tr>\n",
              "    <tr>\n",
              "      <th>Sulzer</th>\n",
              "      <td>85.613333</td>\n",
              "      <td>1.165496</td>\n",
              "      <td>1.358381</td>\n",
              "    </tr>\n",
              "    <tr>\n",
              "      <th rowspan=\"2\" valign=\"top\">Julio</th>\n",
              "      <th>Nova</th>\n",
              "      <td>85.366667</td>\n",
              "      <td>0.446681</td>\n",
              "      <td>0.199524</td>\n",
              "    </tr>\n",
              "    <tr>\n",
              "      <th>Sulzer</th>\n",
              "      <td>83.693333</td>\n",
              "      <td>0.605294</td>\n",
              "      <td>0.366381</td>\n",
              "    </tr>\n",
              "    <tr>\n",
              "      <th rowspan=\"2\" valign=\"top\">Luis</th>\n",
              "      <th>Nova</th>\n",
              "      <td>88.613333</td>\n",
              "      <td>0.429063</td>\n",
              "      <td>0.184095</td>\n",
              "    </tr>\n",
              "    <tr>\n",
              "      <th>Sulzer</th>\n",
              "      <td>86.360000</td>\n",
              "      <td>0.383219</td>\n",
              "      <td>0.146857</td>\n",
              "    </tr>\n",
              "  </tbody>\n",
              "</table>\n",
              "</div>\n",
              "      <button class=\"colab-df-convert\" onclick=\"convertToInteractive('df-44ec37d1-811b-46cd-8281-b153e0215b72')\"\n",
              "              title=\"Convert this dataframe to an interactive table.\"\n",
              "              style=\"display:none;\">\n",
              "        \n",
              "  <svg xmlns=\"http://www.w3.org/2000/svg\" height=\"24px\"viewBox=\"0 0 24 24\"\n",
              "       width=\"24px\">\n",
              "    <path d=\"M0 0h24v24H0V0z\" fill=\"none\"/>\n",
              "    <path d=\"M18.56 5.44l.94 2.06.94-2.06 2.06-.94-2.06-.94-.94-2.06-.94 2.06-2.06.94zm-11 1L8.5 8.5l.94-2.06 2.06-.94-2.06-.94L8.5 2.5l-.94 2.06-2.06.94zm10 10l.94 2.06.94-2.06 2.06-.94-2.06-.94-.94-2.06-.94 2.06-2.06.94z\"/><path d=\"M17.41 7.96l-1.37-1.37c-.4-.4-.92-.59-1.43-.59-.52 0-1.04.2-1.43.59L10.3 9.45l-7.72 7.72c-.78.78-.78 2.05 0 2.83L4 21.41c.39.39.9.59 1.41.59.51 0 1.02-.2 1.41-.59l7.78-7.78 2.81-2.81c.8-.78.8-2.07 0-2.86zM5.41 20L4 18.59l7.72-7.72 1.47 1.35L5.41 20z\"/>\n",
              "  </svg>\n",
              "      </button>\n",
              "      \n",
              "  <style>\n",
              "    .colab-df-container {\n",
              "      display:flex;\n",
              "      flex-wrap:wrap;\n",
              "      gap: 12px;\n",
              "    }\n",
              "\n",
              "    .colab-df-convert {\n",
              "      background-color: #E8F0FE;\n",
              "      border: none;\n",
              "      border-radius: 50%;\n",
              "      cursor: pointer;\n",
              "      display: none;\n",
              "      fill: #1967D2;\n",
              "      height: 32px;\n",
              "      padding: 0 0 0 0;\n",
              "      width: 32px;\n",
              "    }\n",
              "\n",
              "    .colab-df-convert:hover {\n",
              "      background-color: #E2EBFA;\n",
              "      box-shadow: 0px 1px 2px rgba(60, 64, 67, 0.3), 0px 1px 3px 1px rgba(60, 64, 67, 0.15);\n",
              "      fill: #174EA6;\n",
              "    }\n",
              "\n",
              "    [theme=dark] .colab-df-convert {\n",
              "      background-color: #3B4455;\n",
              "      fill: #D2E3FC;\n",
              "    }\n",
              "\n",
              "    [theme=dark] .colab-df-convert:hover {\n",
              "      background-color: #434B5C;\n",
              "      box-shadow: 0px 1px 3px 1px rgba(0, 0, 0, 0.15);\n",
              "      filter: drop-shadow(0px 1px 2px rgba(0, 0, 0, 0.3));\n",
              "      fill: #FFFFFF;\n",
              "    }\n",
              "  </style>\n",
              "\n",
              "      <script>\n",
              "        const buttonEl =\n",
              "          document.querySelector('#df-44ec37d1-811b-46cd-8281-b153e0215b72 button.colab-df-convert');\n",
              "        buttonEl.style.display =\n",
              "          google.colab.kernel.accessAllowed ? 'block' : 'none';\n",
              "\n",
              "        async function convertToInteractive(key) {\n",
              "          const element = document.querySelector('#df-44ec37d1-811b-46cd-8281-b153e0215b72');\n",
              "          const dataTable =\n",
              "            await google.colab.kernel.invokeFunction('convertToInteractive',\n",
              "                                                     [key], {});\n",
              "          if (!dataTable) return;\n",
              "\n",
              "          const docLinkHtml = 'Like what you see? Visit the ' +\n",
              "            '<a target=\"_blank\" href=https://colab.research.google.com/notebooks/data_table.ipynb>data table notebook</a>'\n",
              "            + ' to learn more about interactive tables.';\n",
              "          element.innerHTML = '';\n",
              "          dataTable['output_type'] = 'display_data';\n",
              "          await google.colab.output.renderOutput(dataTable, element);\n",
              "          const docLink = document.createElement('div');\n",
              "          docLink.innerHTML = docLinkHtml;\n",
              "          element.appendChild(docLink);\n",
              "        }\n",
              "      </script>\n",
              "    </div>\n",
              "  </div>\n",
              "  "
            ]
          },
          "metadata": {},
          "execution_count": 742
        }
      ]
    }
  ]
}